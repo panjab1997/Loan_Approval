{
 "cells": [
  {
   "cell_type": "markdown",
   "id": "f21c3ff5",
   "metadata": {},
   "source": [
    "## A. Data Loading and Exploration"
   ]
  },
  {
   "cell_type": "markdown",
   "id": "a1333f67",
   "metadata": {},
   "source": [
    "Importing Necessary libraries"
   ]
  },
  {
   "cell_type": "code",
   "execution_count": 3,
   "id": "2c734ccd",
   "metadata": {},
   "outputs": [],
   "source": [
    "import pandas as pd\n",
    "import numpy as np\n",
    "import matplotlib.pyplot as plt\n",
    "import seaborn as sns\n",
    "from sklearn import metrics\n",
    "import warnings\n",
    "warnings.filterwarnings('ignore')"
   ]
  },
  {
   "cell_type": "code",
   "execution_count": 4,
   "id": "698b1ff6",
   "metadata": {},
   "outputs": [],
   "source": [
    "Loan = pd.read_csv('Bank+Data+-+Full+Data+-For+final+Day.csv')"
   ]
  },
  {
   "cell_type": "code",
   "execution_count": 5,
   "id": "01594129",
   "metadata": {
    "scrolled": false
   },
   "outputs": [
    {
     "data": {
      "text/html": [
       "<div>\n",
       "<style scoped>\n",
       "    .dataframe tbody tr th:only-of-type {\n",
       "        vertical-align: middle;\n",
       "    }\n",
       "\n",
       "    .dataframe tbody tr th {\n",
       "        vertical-align: top;\n",
       "    }\n",
       "\n",
       "    .dataframe thead th {\n",
       "        text-align: right;\n",
       "    }\n",
       "</style>\n",
       "<table border=\"1\" class=\"dataframe\">\n",
       "  <thead>\n",
       "    <tr style=\"text-align: right;\">\n",
       "      <th></th>\n",
       "      <th>Roll Number Part 1</th>\n",
       "      <th>ID</th>\n",
       "      <th>Gender</th>\n",
       "      <th>DOB</th>\n",
       "      <th>LeadCreationDate</th>\n",
       "      <th>City_Code</th>\n",
       "      <th>City_Feature</th>\n",
       "      <th>Employee_No</th>\n",
       "      <th>Employer_type1</th>\n",
       "      <th>Employer_type2</th>\n",
       "      <th>Income</th>\n",
       "      <th>Customer_bank_code</th>\n",
       "      <th>ExistingBankType</th>\n",
       "      <th>Contacted</th>\n",
       "      <th>Source</th>\n",
       "      <th>Source_Cat</th>\n",
       "      <th>Existing_EMI</th>\n",
       "      <th>Feature1</th>\n",
       "      <th>Approved</th>\n",
       "    </tr>\n",
       "  </thead>\n",
       "  <tbody>\n",
       "    <tr>\n",
       "      <th>0</th>\n",
       "      <td>381</td>\n",
       "      <td>APPP10987536114</td>\n",
       "      <td>Female</td>\n",
       "      <td>17/06/93</td>\n",
       "      <td>02/09/16</td>\n",
       "      <td>C10002</td>\n",
       "      <td>A</td>\n",
       "      <td>COM0052877</td>\n",
       "      <td>A</td>\n",
       "      <td>4</td>\n",
       "      <td>1.4</td>\n",
       "      <td>B029</td>\n",
       "      <td>G</td>\n",
       "      <td>N</td>\n",
       "      <td>S122</td>\n",
       "      <td>G</td>\n",
       "      <td>0.0</td>\n",
       "      <td>0</td>\n",
       "      <td>0</td>\n",
       "    </tr>\n",
       "    <tr>\n",
       "      <th>1</th>\n",
       "      <td>884</td>\n",
       "      <td>APPJ10857173523</td>\n",
       "      <td>Female</td>\n",
       "      <td>16/04/91</td>\n",
       "      <td>03/07/16</td>\n",
       "      <td>C10003</td>\n",
       "      <td>A</td>\n",
       "      <td>COM0000002</td>\n",
       "      <td>C</td>\n",
       "      <td>1</td>\n",
       "      <td>2.3</td>\n",
       "      <td>B005</td>\n",
       "      <td>P</td>\n",
       "      <td>N</td>\n",
       "      <td>S133</td>\n",
       "      <td>C</td>\n",
       "      <td>0.0</td>\n",
       "      <td>0</td>\n",
       "      <td>0</td>\n",
       "    </tr>\n",
       "    <tr>\n",
       "      <th>2</th>\n",
       "      <td>34</td>\n",
       "      <td>APPN40005263144</td>\n",
       "      <td>Female</td>\n",
       "      <td>22/11/86</td>\n",
       "      <td>04/07/16</td>\n",
       "      <td>C10001</td>\n",
       "      <td>A</td>\n",
       "      <td>COM0005816</td>\n",
       "      <td>A</td>\n",
       "      <td>4</td>\n",
       "      <td>3.5</td>\n",
       "      <td>B002</td>\n",
       "      <td>P</td>\n",
       "      <td>N</td>\n",
       "      <td>S133</td>\n",
       "      <td>C</td>\n",
       "      <td>0.0</td>\n",
       "      <td>0</td>\n",
       "      <td>0</td>\n",
       "    </tr>\n",
       "    <tr>\n",
       "      <th>3</th>\n",
       "      <td>920</td>\n",
       "      <td>APPF20377669543</td>\n",
       "      <td>Female</td>\n",
       "      <td>11/01/90</td>\n",
       "      <td>05/08/16</td>\n",
       "      <td>C10001</td>\n",
       "      <td>A</td>\n",
       "      <td>COM0000005</td>\n",
       "      <td>A</td>\n",
       "      <td>1</td>\n",
       "      <td>200.0</td>\n",
       "      <td>B001</td>\n",
       "      <td>P</td>\n",
       "      <td>N</td>\n",
       "      <td>S122</td>\n",
       "      <td>B</td>\n",
       "      <td>0.0</td>\n",
       "      <td>0</td>\n",
       "      <td>0</td>\n",
       "    </tr>\n",
       "    <tr>\n",
       "      <th>4</th>\n",
       "      <td>163</td>\n",
       "      <td>APPL30007442336</td>\n",
       "      <td>Female</td>\n",
       "      <td>03/04/94</td>\n",
       "      <td>23/08/16</td>\n",
       "      <td>C10043</td>\n",
       "      <td>B</td>\n",
       "      <td>COM0023428</td>\n",
       "      <td>A</td>\n",
       "      <td>4</td>\n",
       "      <td>200.0</td>\n",
       "      <td>B003</td>\n",
       "      <td>G</td>\n",
       "      <td>N</td>\n",
       "      <td>S133</td>\n",
       "      <td>B</td>\n",
       "      <td>0.0</td>\n",
       "      <td>0</td>\n",
       "      <td>0</td>\n",
       "    </tr>\n",
       "  </tbody>\n",
       "</table>\n",
       "</div>"
      ],
      "text/plain": [
       "   Roll Number Part 1               ID  Gender       DOB LeadCreationDate  \\\n",
       "0                 381  APPP10987536114  Female  17/06/93         02/09/16   \n",
       "1                 884  APPJ10857173523  Female  16/04/91         03/07/16   \n",
       "2                  34  APPN40005263144  Female  22/11/86         04/07/16   \n",
       "3                 920  APPF20377669543  Female  11/01/90         05/08/16   \n",
       "4                 163  APPL30007442336  Female  03/04/94         23/08/16   \n",
       "\n",
       "  City_Code City_Feature Employee_No Employer_type1  Employer_type2  Income  \\\n",
       "0    C10002            A  COM0052877              A               4     1.4   \n",
       "1    C10003            A  COM0000002              C               1     2.3   \n",
       "2    C10001            A  COM0005816              A               4     3.5   \n",
       "3    C10001            A  COM0000005              A               1   200.0   \n",
       "4    C10043            B  COM0023428              A               4   200.0   \n",
       "\n",
       "  Customer_bank_code ExistingBankType Contacted Source Source_Cat  \\\n",
       "0               B029                G         N   S122          G   \n",
       "1               B005                P         N   S133          C   \n",
       "2               B002                P         N   S133          C   \n",
       "3               B001                P         N   S122          B   \n",
       "4               B003                G         N   S133          B   \n",
       "\n",
       "   Existing_EMI  Feature1  Approved  \n",
       "0           0.0         0         0  \n",
       "1           0.0         0         0  \n",
       "2           0.0         0         0  \n",
       "3           0.0         0         0  \n",
       "4           0.0         0         0  "
      ]
     },
     "execution_count": 5,
     "metadata": {},
     "output_type": "execute_result"
    }
   ],
   "source": [
    "Loan.head() # Display of 5 records"
   ]
  },
  {
   "cell_type": "markdown",
   "id": "861f8ab7",
   "metadata": {},
   "source": [
    "Used pandas library to read the data"
   ]
  },
  {
   "cell_type": "code",
   "execution_count": 6,
   "id": "29f51487",
   "metadata": {
    "scrolled": true
   },
   "outputs": [
    {
     "name": "stdout",
     "output_type": "stream",
     "text": [
      "<class 'pandas.core.frame.DataFrame'>\n",
      "RangeIndex: 1982 entries, 0 to 1981\n",
      "Data columns (total 19 columns):\n",
      " #   Column              Non-Null Count  Dtype  \n",
      "---  ------              --------------  -----  \n",
      " 0   Roll Number Part 1  1982 non-null   int64  \n",
      " 1   ID                  1982 non-null   object \n",
      " 2   Gender              1982 non-null   object \n",
      " 3   DOB                 1982 non-null   object \n",
      " 4   LeadCreationDate    1982 non-null   object \n",
      " 5   City_Code           1982 non-null   object \n",
      " 6   City_Feature        1982 non-null   object \n",
      " 7   Employee_No         1982 non-null   object \n",
      " 8   Employer_type1      1982 non-null   object \n",
      " 9   Employer_type2      1982 non-null   int64  \n",
      " 10  Income              1982 non-null   float64\n",
      " 11  Customer_bank_code  1982 non-null   object \n",
      " 12  ExistingBankType    1982 non-null   object \n",
      " 13  Contacted           1982 non-null   object \n",
      " 14  Source              1982 non-null   object \n",
      " 15  Source_Cat          1982 non-null   object \n",
      " 16  Existing_EMI        1982 non-null   float64\n",
      " 17  Feature1            1982 non-null   int64  \n",
      " 18  Approved            1982 non-null   int64  \n",
      "dtypes: float64(2), int64(4), object(13)\n",
      "memory usage: 294.3+ KB\n"
     ]
    }
   ],
   "source": [
    "# Information of the features\n",
    "Loan.info()"
   ]
  },
  {
   "cell_type": "markdown",
   "id": "690a249d",
   "metadata": {},
   "source": [
    "Missing Values in percentage"
   ]
  },
  {
   "cell_type": "code",
   "execution_count": 7,
   "id": "f322666b",
   "metadata": {},
   "outputs": [
    {
     "data": {
      "text/plain": [
       "Roll Number Part 1    0.0\n",
       "ID                    0.0\n",
       "Gender                0.0\n",
       "DOB                   0.0\n",
       "LeadCreationDate      0.0\n",
       "City_Code             0.0\n",
       "City_Feature          0.0\n",
       "Employee_No           0.0\n",
       "Employer_type1        0.0\n",
       "Employer_type2        0.0\n",
       "Income                0.0\n",
       "Customer_bank_code    0.0\n",
       "ExistingBankType      0.0\n",
       "Contacted             0.0\n",
       "Source                0.0\n",
       "Source_Cat            0.0\n",
       "Existing_EMI          0.0\n",
       "Feature1              0.0\n",
       "Approved              0.0\n",
       "dtype: float64"
      ]
     },
     "execution_count": 7,
     "metadata": {},
     "output_type": "execute_result"
    }
   ],
   "source": [
    "Loan.isnull().sum()/len(Loan)*100 # loan.isnull().sum()"
   ]
  },
  {
   "cell_type": "markdown",
   "id": "bef6c872",
   "metadata": {},
   "source": [
    "No missing Values found"
   ]
  },
  {
   "cell_type": "code",
   "execution_count": 8,
   "id": "ef1578ca",
   "metadata": {
    "scrolled": true
   },
   "outputs": [
    {
     "data": {
      "text/html": [
       "<div>\n",
       "<style scoped>\n",
       "    .dataframe tbody tr th:only-of-type {\n",
       "        vertical-align: middle;\n",
       "    }\n",
       "\n",
       "    .dataframe tbody tr th {\n",
       "        vertical-align: top;\n",
       "    }\n",
       "\n",
       "    .dataframe thead th {\n",
       "        text-align: right;\n",
       "    }\n",
       "</style>\n",
       "<table border=\"1\" class=\"dataframe\">\n",
       "  <thead>\n",
       "    <tr style=\"text-align: right;\">\n",
       "      <th></th>\n",
       "      <th>Roll Number Part 1</th>\n",
       "      <th>ID</th>\n",
       "      <th>Gender</th>\n",
       "      <th>DOB</th>\n",
       "      <th>LeadCreationDate</th>\n",
       "      <th>City_Code</th>\n",
       "      <th>City_Feature</th>\n",
       "      <th>Employee_No</th>\n",
       "      <th>Employer_type1</th>\n",
       "      <th>Employer_type2</th>\n",
       "      <th>Income</th>\n",
       "      <th>Customer_bank_code</th>\n",
       "      <th>ExistingBankType</th>\n",
       "      <th>Contacted</th>\n",
       "      <th>Source</th>\n",
       "      <th>Source_Cat</th>\n",
       "      <th>Existing_EMI</th>\n",
       "      <th>Feature1</th>\n",
       "      <th>Approved</th>\n",
       "    </tr>\n",
       "  </thead>\n",
       "  <tbody>\n",
       "  </tbody>\n",
       "</table>\n",
       "</div>"
      ],
      "text/plain": [
       "Empty DataFrame\n",
       "Columns: [Roll Number Part 1, ID, Gender, DOB, LeadCreationDate, City_Code, City_Feature, Employee_No, Employer_type1, Employer_type2, Income, Customer_bank_code, ExistingBankType, Contacted, Source, Source_Cat, Existing_EMI, Feature1, Approved]\n",
       "Index: []"
      ]
     },
     "execution_count": 8,
     "metadata": {},
     "output_type": "execute_result"
    }
   ],
   "source": [
    "# Duplicate Records \n",
    "Loan[Loan.duplicated()]"
   ]
  },
  {
   "cell_type": "markdown",
   "id": "567eb6b2",
   "metadata": {},
   "source": [
    "No Duplicated records found"
   ]
  },
  {
   "cell_type": "markdown",
   "id": "d830910e",
   "metadata": {},
   "source": [
    "###  Analysing Target Variable - Approved"
   ]
  },
  {
   "cell_type": "code",
   "execution_count": 9,
   "id": "6c247864",
   "metadata": {},
   "outputs": [
    {
     "name": "stdout",
     "output_type": "stream",
     "text": [
      "int64\n"
     ]
    },
    {
     "data": {
      "text/plain": [
       "0    991\n",
       "1    991\n",
       "Name: Approved, dtype: int64"
      ]
     },
     "execution_count": 9,
     "metadata": {},
     "output_type": "execute_result"
    }
   ],
   "source": [
    "print(Loan['Approved'].dtype)\n",
    "Loan['Approved'].value_counts()"
   ]
  },
  {
   "cell_type": "code",
   "execution_count": 10,
   "id": "9a40fc02",
   "metadata": {
    "scrolled": true
   },
   "outputs": [
    {
     "data": {
      "text/plain": [
       "<AxesSubplot: xlabel='Approved', ylabel='count'>"
      ]
     },
     "execution_count": 10,
     "metadata": {},
     "output_type": "execute_result"
    },
    {
     "data": {
      "image/png": "[encoded data removed]",
      "text/plain": [
       "<Figure size 640x480 with 1 Axes>"
      ]
     },
     "metadata": {},
     "output_type": "display_data"
    }
   ],
   "source": [
    "sns.countplot(data = Loan , x = 'Approved' , palette = 'deep')"
   ]
  },
  {
   "cell_type": "markdown",
   "id": "4298b189",
   "metadata": {},
   "source": [
    "Equal number of Approved and Not Approved (50% - 50%) , Balanced "
   ]
  },
  {
   "cell_type": "markdown",
   "id": "c5d2db49",
   "metadata": {},
   "source": [
    "## B. Data Cleaning and Exploratory Data Analysis."
   ]
  },
  {
   "cell_type": "markdown",
   "id": "d8f3c7a0",
   "metadata": {},
   "source": [
    "### 1) Creating new dataframe with'features - Gender', 'City_feature', 'Employer_type1','Employer_type2',’Income’,’ExistingBankType','Source_Cat','Existing_EMI',’Feature1',‘Approved’\n"
   ]
  },
  {
   "cell_type": "code",
   "execution_count": 11,
   "id": "19f12e28",
   "metadata": {},
   "outputs": [],
   "source": [
    "Loan = Loan[['Gender', 'City_Feature', 'Employer_type1','Employer_type2','Income','ExistingBankType','Source_Cat','Existing_EMI','Feature1','Approved']]"
   ]
  },
  {
   "cell_type": "code",
   "execution_count": 12,
   "id": "9383da94",
   "metadata": {},
   "outputs": [
    {
     "name": "stdout",
     "output_type": "stream",
     "text": [
      "<class 'pandas.core.frame.DataFrame'>\n",
      "RangeIndex: 1982 entries, 0 to 1981\n",
      "Data columns (total 10 columns):\n",
      " #   Column            Non-Null Count  Dtype  \n",
      "---  ------            --------------  -----  \n",
      " 0   Gender            1982 non-null   object \n",
      " 1   City_Feature      1982 non-null   object \n",
      " 2   Employer_type1    1982 non-null   object \n",
      " 3   Employer_type2    1982 non-null   int64  \n",
      " 4   Income            1982 non-null   float64\n",
      " 5   ExistingBankType  1982 non-null   object \n",
      " 6   Source_Cat        1982 non-null   object \n",
      " 7   Existing_EMI      1982 non-null   float64\n",
      " 8   Feature1          1982 non-null   int64  \n",
      " 9   Approved          1982 non-null   int64  \n",
      "dtypes: float64(2), int64(3), object(5)\n",
      "memory usage: 155.0+ KB\n"
     ]
    }
   ],
   "source": [
    "# info of the Dataframe with Selected feture\n",
    "Loan.info()"
   ]
  },
  {
   "cell_type": "markdown",
   "id": "0cd8b181",
   "metadata": {},
   "source": [
    "###  Convert non-numeric features to transform into numeric ones"
   ]
  },
  {
   "cell_type": "markdown",
   "id": "b1e2451f",
   "metadata": {},
   "source": [
    "Approach - Used Labelencoder from sklearn Library to assign the numerical values for each categorical feature"
   ]
  },
  {
   "cell_type": "code",
   "execution_count": 13,
   "id": "fdbf5c16",
   "metadata": {},
   "outputs": [
    {
     "data": {
      "text/plain": [
       "Index(['Gender', 'City_Feature', 'Employer_type1', 'ExistingBankType',\n",
       "       'Source_Cat'],\n",
       "      dtype='object')"
      ]
     },
     "execution_count": 13,
     "metadata": {},
     "output_type": "execute_result"
    }
   ],
   "source": [
    "Loan.select_dtypes(include = 'object').columns"
   ]
  },
  {
   "cell_type": "code",
   "execution_count": 14,
   "id": "3ab337e1",
   "metadata": {},
   "outputs": [
    {
     "data": {
      "text/plain": [
       "1    1296\n",
       "0     686\n",
       "Name: Gender, dtype: int64"
      ]
     },
     "execution_count": 14,
     "metadata": {},
     "output_type": "execute_result"
    }
   ],
   "source": [
    "from sklearn.preprocessing import LabelEncoder \n",
    "# Gender\n",
    "le = LabelEncoder() \n",
    "Loan['Gender']= le.fit_transform(Loan['Gender']) \n",
    "Loan['Gender'].value_counts()"
   ]
  },
  {
   "cell_type": "code",
   "execution_count": 15,
   "id": "f3134cab",
   "metadata": {},
   "outputs": [
    {
     "name": "stdout",
     "output_type": "stream",
     "text": [
      "A    1525\n",
      "C     263\n",
      "B     194\n",
      "Name: City_Feature, dtype: int64\n"
     ]
    },
    {
     "data": {
      "text/plain": [
       "0    1525\n",
       "2     263\n",
       "1     194\n",
       "Name: City_Feature, dtype: int64"
      ]
     },
     "execution_count": 15,
     "metadata": {},
     "output_type": "execute_result"
    }
   ],
   "source": [
    "# City_Feature\n",
    "print(Loan['City_Feature'].value_counts())\n",
    "Loan['City_Feature']= le.fit_transform(Loan['City_Feature']) \n",
    "Loan['City_Feature'].value_counts()"
   ]
  },
  {
   "cell_type": "code",
   "execution_count": 16,
   "id": "74223145",
   "metadata": {},
   "outputs": [
    {
     "name": "stdout",
     "output_type": "stream",
     "text": [
      "A    832\n",
      "B    627\n",
      "C    523\n",
      "Name: Employer_type1, dtype: int64\n"
     ]
    },
    {
     "data": {
      "text/plain": [
       "0    832\n",
       "1    627\n",
       "2    523\n",
       "Name: Employer_type1, dtype: int64"
      ]
     },
     "execution_count": 16,
     "metadata": {},
     "output_type": "execute_result"
    }
   ],
   "source": [
    "# Employer_type1\n",
    "print(Loan['Employer_type1'].value_counts())\n",
    "Loan['Employer_type1']= le.fit_transform(Loan['Employer_type1']) \n",
    "Loan['Employer_type1'].value_counts() # A-0 , B-1 , C-2"
   ]
  },
  {
   "cell_type": "code",
   "execution_count": 17,
   "id": "d981a7e1",
   "metadata": {},
   "outputs": [
    {
     "name": "stdout",
     "output_type": "stream",
     "text": [
      "P    1448\n",
      "G     534\n",
      "Name: ExistingBankType, dtype: int64\n"
     ]
    },
    {
     "data": {
      "text/plain": [
       "1    1448\n",
       "0     534\n",
       "Name: ExistingBankType, dtype: int64"
      ]
     },
     "execution_count": 17,
     "metadata": {},
     "output_type": "execute_result"
    }
   ],
   "source": [
    "# ExistingBankType\n",
    "print(Loan['ExistingBankType'].value_counts())\n",
    "Loan['ExistingBankType']= le.fit_transform(Loan['ExistingBankType']) \n",
    "Loan['ExistingBankType'].value_counts() # P-0 , G-1"
   ]
  },
  {
   "cell_type": "code",
   "execution_count": 18,
   "id": "96abcb33",
   "metadata": {
    "scrolled": false
   },
   "outputs": [
    {
     "name": "stdout",
     "output_type": "stream",
     "text": [
      "B    909\n",
      "G    697\n",
      "C    331\n",
      "E     30\n",
      "F     15\n",
      "Name: Source_Cat, dtype: int64\n"
     ]
    },
    {
     "data": {
      "text/plain": [
       "0    909\n",
       "4    697\n",
       "1    331\n",
       "2     30\n",
       "3     15\n",
       "Name: Source_Cat, dtype: int64"
      ]
     },
     "execution_count": 18,
     "metadata": {},
     "output_type": "execute_result"
    }
   ],
   "source": [
    "# Source_Cat\n",
    "print(Loan['Source_Cat'].value_counts())\n",
    "Loan['Source_Cat']= le.fit_transform(Loan['Source_Cat']) \n",
    "Loan['Source_Cat'].value_counts()"
   ]
  },
  {
   "cell_type": "markdown",
   "id": "7411fa14",
   "metadata": {},
   "source": [
    "## Analysis of the Predictors"
   ]
  },
  {
   "cell_type": "markdown",
   "id": "c053c461",
   "metadata": {},
   "source": [
    "### 1. Gender"
   ]
  },
  {
   "cell_type": "code",
   "execution_count": 19,
   "id": "4a30e74e",
   "metadata": {
    "scrolled": true
   },
   "outputs": [
    {
     "data": {
      "text/plain": [
       "1    1296\n",
       "0     686\n",
       "Name: Gender, dtype: int64"
      ]
     },
     "execution_count": 19,
     "metadata": {},
     "output_type": "execute_result"
    }
   ],
   "source": [
    "Loan.Gender.value_counts()"
   ]
  },
  {
   "cell_type": "code",
   "execution_count": 20,
   "id": "580c27c7",
   "metadata": {},
   "outputs": [
    {
     "data": {
      "text/plain": [
       "<AxesSubplot: xlabel='Gender', ylabel='count'>"
      ]
     },
     "execution_count": 20,
     "metadata": {},
     "output_type": "execute_result"
    },
    {
     "data": {
      "image/png": "[encoded data removed]",
      "text/plain": [
       "<Figure size 640x480 with 1 Axes>"
      ]
     },
     "metadata": {},
     "output_type": "display_data"
    }
   ],
   "source": [
    "sns.countplot(data = Loan , x = 'Gender' , palette = 'deep')"
   ]
  },
  {
   "cell_type": "markdown",
   "id": "3a0a67ab",
   "metadata": {},
   "source": [
    "### 2. City_Feature"
   ]
  },
  {
   "cell_type": "code",
   "execution_count": 22,
   "id": "294d8404",
   "metadata": {},
   "outputs": [
    {
     "data": {
      "text/plain": [
       "0    1525\n",
       "2     263\n",
       "1     194\n",
       "Name: City_Feature, dtype: int64"
      ]
     },
     "execution_count": 22,
     "metadata": {},
     "output_type": "execute_result"
    }
   ],
   "source": [
    "Loan.City_Feature.value_counts()"
   ]
  },
  {
   "cell_type": "code",
   "execution_count": 23,
   "id": "b2291e68",
   "metadata": {},
   "outputs": [
    {
     "data": {
      "text/plain": [
       "<AxesSubplot: xlabel='City_Feature', ylabel='count'>"
      ]
     },
     "execution_count": 23,
     "metadata": {},
     "output_type": "execute_result"
    },
    {
     "data": {
      "image/png": "[encoded data removed]",
      "text/plain": [
       "<Figure size 640x480 with 1 Axes>"
      ]
     },
     "metadata": {},
     "output_type": "display_data"
    }
   ],
   "source": [
    "sns.countplot(data = Loan , x = 'City_Feature' , palette = 'deep')"
   ]
  },
  {
   "cell_type": "markdown",
   "id": "3e8a73b4",
   "metadata": {},
   "source": [
    "### 3. Employer_type1"
   ]
  },
  {
   "cell_type": "code",
   "execution_count": 24,
   "id": "7b7fd803",
   "metadata": {},
   "outputs": [
    {
     "data": {
      "text/plain": [
       "0    832\n",
       "1    627\n",
       "2    523\n",
       "Name: Employer_type1, dtype: int64"
      ]
     },
     "execution_count": 24,
     "metadata": {},
     "output_type": "execute_result"
    }
   ],
   "source": [
    "Loan.Employer_type1.value_counts()"
   ]
  },
  {
   "cell_type": "code",
   "execution_count": 25,
   "id": "eaa6d4ab",
   "metadata": {},
   "outputs": [
    {
     "data": {
      "text/plain": [
       "<AxesSubplot: xlabel='Employer_type1', ylabel='count'>"
      ]
     },
     "execution_count": 25,
     "metadata": {},
     "output_type": "execute_result"
    },
    {
     "data": {
      "image/png": "[encoded data removed]",
      "text/plain": [
       "<Figure size 640x480 with 1 Axes>"
      ]
     },
     "metadata": {},
     "output_type": "display_data"
    }
   ],
   "source": [
    "sns.countplot(data = Loan , x = 'Employer_type1' , palette = 'deep')"
   ]
  },
  {
   "cell_type": "markdown",
   "id": "ac60c58a",
   "metadata": {},
   "source": [
    "### 4. Employer_type2"
   ]
  },
  {
   "cell_type": "code",
   "execution_count": 26,
   "id": "f4de56e0",
   "metadata": {},
   "outputs": [
    {
     "data": {
      "text/plain": [
       "4    1703\n",
       "1     145\n",
       "2      89\n",
       "3      45\n",
       "Name: Employer_type2, dtype: int64"
      ]
     },
     "execution_count": 26,
     "metadata": {},
     "output_type": "execute_result"
    }
   ],
   "source": [
    "Loan.Employer_type2.value_counts()"
   ]
  },
  {
   "cell_type": "code",
   "execution_count": 27,
   "id": "617ed910",
   "metadata": {},
   "outputs": [
    {
     "data": {
      "text/plain": [
       "<AxesSubplot: xlabel='Employer_type2', ylabel='count'>"
      ]
     },
     "execution_count": 27,
     "metadata": {},
     "output_type": "execute_result"
    },
    {
     "data": {
      "image/png": "[encoded data removed]",
      "text/plain": [
       "<Figure size 640x480 with 1 Axes>"
      ]
     },
     "metadata": {},
     "output_type": "display_data"
    }
   ],
   "source": [
    "sns.countplot(data = Loan , x = 'Employer_type2' , palette = 'deep')"
   ]
  },
  {
   "cell_type": "markdown",
   "id": "83e64c21",
   "metadata": {},
   "source": [
    "### 5. Income"
   ]
  },
  {
   "cell_type": "code",
   "execution_count": 29,
   "id": "881c1e5a",
   "metadata": {},
   "outputs": [
    {
     "data": {
      "text/plain": [
       "<seaborn.axisgrid.FacetGrid at 0x1fb761fe4a0>"
      ]
     },
     "execution_count": 29,
     "metadata": {},
     "output_type": "execute_result"
    },
    {
     "data": {
      "image/png": "[encoded data removed]",
      "text/plain": [
       "<Figure size 500x500 with 1 Axes>"
      ]
     },
     "metadata": {},
     "output_type": "display_data"
    }
   ],
   "source": [
    "sns.displot(data = Loan , x = 'Income')"
   ]
  },
  {
   "cell_type": "code",
   "execution_count": 30,
   "id": "8c36d7da",
   "metadata": {
    "scrolled": true
   },
   "outputs": [
    {
     "data": {
      "text/plain": [
       "<AxesSubplot: xlabel='Income'>"
      ]
     },
     "execution_count": 30,
     "metadata": {},
     "output_type": "execute_result"
    },
    {
     "data": {
      "image/png": "[encoded data removed]",
      "text/plain": [
       "<Figure size 640x480 with 1 Axes>"
      ]
     },
     "metadata": {},
     "output_type": "display_data"
    }
   ],
   "source": [
    "sns.boxplot(data = Loan , x = 'Income')"
   ]
  },
  {
   "cell_type": "markdown",
   "id": "7dae6c28",
   "metadata": {},
   "source": [
    "### 6. ExistingBankType"
   ]
  },
  {
   "cell_type": "code",
   "execution_count": 31,
   "id": "ed5d2f6d",
   "metadata": {},
   "outputs": [
    {
     "data": {
      "text/plain": [
       "1    1448\n",
       "0     534\n",
       "Name: ExistingBankType, dtype: int64"
      ]
     },
     "execution_count": 31,
     "metadata": {},
     "output_type": "execute_result"
    }
   ],
   "source": [
    "Loan.ExistingBankType.value_counts()"
   ]
  },
  {
   "cell_type": "code",
   "execution_count": 32,
   "id": "508194c4",
   "metadata": {},
   "outputs": [
    {
     "data": {
      "text/plain": [
       "<AxesSubplot: xlabel='ExistingBankType', ylabel='count'>"
      ]
     },
     "execution_count": 32,
     "metadata": {},
     "output_type": "execute_result"
    },
    {
     "data": {
      "image/png": "[encoded data removed]",
      "text/plain": [
       "<Figure size 640x480 with 1 Axes>"
      ]
     },
     "metadata": {},
     "output_type": "display_data"
    }
   ],
   "source": [
    "sns.countplot(data = Loan , x = 'ExistingBankType' , palette = 'deep')"
   ]
  },
  {
   "cell_type": "markdown",
   "id": "85a4abb2",
   "metadata": {},
   "source": [
    "### 7. Source_Cat"
   ]
  },
  {
   "cell_type": "code",
   "execution_count": 33,
   "id": "60bb7dcf",
   "metadata": {},
   "outputs": [
    {
     "data": {
      "text/plain": [
       "0    909\n",
       "4    697\n",
       "1    331\n",
       "2     30\n",
       "3     15\n",
       "Name: Source_Cat, dtype: int64"
      ]
     },
     "execution_count": 33,
     "metadata": {},
     "output_type": "execute_result"
    }
   ],
   "source": [
    "Loan.Source_Cat.value_counts()"
   ]
  },
  {
   "cell_type": "code",
   "execution_count": 34,
   "id": "572ddadb",
   "metadata": {},
   "outputs": [
    {
     "data": {
      "text/plain": [
       "<AxesSubplot: xlabel='Source_Cat', ylabel='count'>"
      ]
     },
     "execution_count": 34,
     "metadata": {},
     "output_type": "execute_result"
    },
    {
     "data": {
      "image/png": "[encoded data removed]",
      "text/plain": [
       "<Figure size 640x480 with 1 Axes>"
      ]
     },
     "metadata": {},
     "output_type": "display_data"
    }
   ],
   "source": [
    "sns.countplot(data = Loan , x = 'Source_Cat' , palette = 'deep')"
   ]
  },
  {
   "cell_type": "markdown",
   "id": "47de43e0",
   "metadata": {},
   "source": [
    "### 8. Existing_EMI"
   ]
  },
  {
   "cell_type": "code",
   "execution_count": 35,
   "id": "23b8b89a",
   "metadata": {},
   "outputs": [
    {
     "data": {
      "text/plain": [
       "dtype('float64')"
      ]
     },
     "execution_count": 35,
     "metadata": {},
     "output_type": "execute_result"
    }
   ],
   "source": [
    "Loan.Existing_EMI.dtypes"
   ]
  },
  {
   "cell_type": "code",
   "execution_count": 36,
   "id": "a0a81c79",
   "metadata": {
    "scrolled": true
   },
   "outputs": [
    {
     "data": {
      "text/plain": [
       "<AxesSubplot: xlabel='Existing_EMI', ylabel='Count'>"
      ]
     },
     "execution_count": 36,
     "metadata": {},
     "output_type": "execute_result"
    },
    {
     "data": {
      "image/png": "[encoded data removed]",
      "text/plain": [
       "<Figure size 640x480 with 1 Axes>"
      ]
     },
     "metadata": {},
     "output_type": "display_data"
    }
   ],
   "source": [
    "sns.histplot(data = Loan , x = 'Existing_EMI')"
   ]
  },
  {
   "cell_type": "code",
   "execution_count": 37,
   "id": "4493624f",
   "metadata": {
    "scrolled": true
   },
   "outputs": [
    {
     "data": {
      "text/plain": [
       "<AxesSubplot: xlabel='Existing_EMI'>"
      ]
     },
     "execution_count": 37,
     "metadata": {},
     "output_type": "execute_result"
    },
    {
     "data": {
      "image/png": "[encoded data removed]",
      "text/plain": [
       "<Figure size 640x480 with 1 Axes>"
      ]
     },
     "metadata": {},
     "output_type": "display_data"
    }
   ],
   "source": [
    "sns.boxplot(data = Loan , x = 'Existing_EMI')"
   ]
  },
  {
   "cell_type": "markdown",
   "id": "6d42ed79",
   "metadata": {},
   "source": [
    "### 9. Feature1"
   ]
  },
  {
   "cell_type": "code",
   "execution_count": 38,
   "id": "1c4454f7",
   "metadata": {},
   "outputs": [
    {
     "data": {
      "text/plain": [
       "<seaborn.axisgrid.FacetGrid at 0x1fb79d3c9d0>"
      ]
     },
     "execution_count": 38,
     "metadata": {},
     "output_type": "execute_result"
    },
    {
     "data": {
      "image/png": "[encoded data removed]",
      "text/plain": [
       "<Figure size 500x500 with 1 Axes>"
      ]
     },
     "metadata": {},
     "output_type": "display_data"
    }
   ],
   "source": [
    "sns.displot(data = Loan , x = 'Feature1')"
   ]
  },
  {
   "cell_type": "code",
   "execution_count": 39,
   "id": "a2c8f265",
   "metadata": {},
   "outputs": [
    {
     "data": {
      "text/plain": [
       "<AxesSubplot: xlabel='Feature1'>"
      ]
     },
     "execution_count": 39,
     "metadata": {},
     "output_type": "execute_result"
    },
    {
     "data": {
      "image/png": "[encoded data removed]",
      "text/plain": [
       "<Figure size 640x480 with 1 Axes>"
      ]
     },
     "metadata": {},
     "output_type": "display_data"
    }
   ],
   "source": [
    "sns.boxplot(data = Loan , x = 'Feature1')"
   ]
  },
  {
   "cell_type": "markdown",
   "id": "6e54ee86",
   "metadata": {},
   "source": [
    "###  Divide the data in dependent and independent variable."
   ]
  },
  {
   "cell_type": "code",
   "execution_count": 19,
   "id": "da57f265",
   "metadata": {},
   "outputs": [],
   "source": [
    "X = Loan.iloc[:,0:9] # Independent Variable\n",
    "y = Loan.iloc[:,-1] # Dependent/Target variable"
   ]
  },
  {
   "cell_type": "markdown",
   "id": "e0f8a0fd",
   "metadata": {},
   "source": [
    "Used index location method to divide the dataset into dependent and independent"
   ]
  },
  {
   "cell_type": "markdown",
   "id": "b93a9716",
   "metadata": {},
   "source": [
    "###  Split the data into train and test data with 80:20 proportion."
   ]
  },
  {
   "cell_type": "code",
   "execution_count": 20,
   "id": "0272b764",
   "metadata": {},
   "outputs": [],
   "source": [
    "#Importing train_test_split package \n",
    "from sklearn.model_selection import train_test_split\n",
    "\n",
    "#Secondly dividing the dataset for training and testing,\n",
    "#training data: 80%, and testing data: 20% with random_state= 0 to repeat the same training and testing data\n",
    "X_train , X_test , y_train , y_test = train_test_split(X , y , test_size= 0.2 , random_state= 1)"
   ]
  },
  {
   "cell_type": "code",
   "execution_count": 21,
   "id": "417a433f",
   "metadata": {},
   "outputs": [
    {
     "name": "stdout",
     "output_type": "stream",
     "text": [
      "the size of X_train data  (1585, 9)\n",
      "the size of X_test data  (397, 9)\n",
      "the size of y_test data  (397,)\n",
      "the size of y_train data  (1585,)\n"
     ]
    }
   ],
   "source": [
    "# shapes of all 4 datasets created in Q3 & Q4.\n",
    "# Size of training and testing dataset\n",
    "\n",
    "print(\"the size of X_train data \",X_train.shape)\n",
    "print(\"the size of X_test data \", X_test.shape)\n",
    "print(\"the size of y_test data \", y_test.shape)\n",
    "print(\"the size of y_train data \", y_train.shape)"
   ]
  },
  {
   "cell_type": "code",
   "execution_count": 22,
   "id": "7a7eabe5",
   "metadata": {},
   "outputs": [],
   "source": [
    "# Applying standard scaling \n",
    "from sklearn.preprocessing import StandardScaler\n",
    "sc = StandardScaler()\n",
    "X_train_sc = sc.fit_transform(X_train)\n",
    "X_test_sc = sc.transform(X_test)"
   ]
  },
  {
   "cell_type": "markdown",
   "id": "8b80210d",
   "metadata": {},
   "source": [
    "## C. Model Building and Evaluation."
   ]
  },
  {
   "cell_type": "markdown",
   "id": "425a983a",
   "metadata": {},
   "source": [
    "### (Model 1) SVM"
   ]
  },
  {
   "cell_type": "code",
   "execution_count": 23,
   "id": "c95d503c",
   "metadata": {},
   "outputs": [],
   "source": [
    "from sklearn.svm import SVC\n",
    "svc = SVC(class_weight='balanced', probability=True) # rbf kernel is default\n",
    "svc = svc.fit(X_train_sc, y_train)"
   ]
  },
  {
   "cell_type": "code",
   "execution_count": 24,
   "id": "744889f1",
   "metadata": {},
   "outputs": [],
   "source": [
    "#Prediction\n",
    "y_pred_test_rbf = svc.predict(X_test_sc)\n",
    "y_pred_train_rbf = svc.predict(X_train_sc)"
   ]
  },
  {
   "cell_type": "markdown",
   "id": "0bd2b4ed",
   "metadata": {},
   "source": [
    "Predicted values of train and test Data"
   ]
  },
  {
   "cell_type": "code",
   "execution_count": 25,
   "id": "6059545e",
   "metadata": {
    "scrolled": true
   },
   "outputs": [
    {
     "data": {
      "text/html": [
       "<div>\n",
       "<style scoped>\n",
       "    .dataframe tbody tr th:only-of-type {\n",
       "        vertical-align: middle;\n",
       "    }\n",
       "\n",
       "    .dataframe tbody tr th {\n",
       "        vertical-align: top;\n",
       "    }\n",
       "\n",
       "    .dataframe thead th {\n",
       "        text-align: right;\n",
       "    }\n",
       "</style>\n",
       "<table border=\"1\" class=\"dataframe\">\n",
       "  <thead>\n",
       "    <tr style=\"text-align: right;\">\n",
       "      <th></th>\n",
       "      <th>Actual</th>\n",
       "      <th>Predicted</th>\n",
       "      <th>Probability of Churning</th>\n",
       "    </tr>\n",
       "  </thead>\n",
       "  <tbody>\n",
       "    <tr>\n",
       "      <th>1340</th>\n",
       "      <td>1</td>\n",
       "      <td>1</td>\n",
       "      <td>0.776286</td>\n",
       "    </tr>\n",
       "    <tr>\n",
       "      <th>1441</th>\n",
       "      <td>1</td>\n",
       "      <td>0</td>\n",
       "      <td>0.442258</td>\n",
       "    </tr>\n",
       "    <tr>\n",
       "      <th>1512</th>\n",
       "      <td>1</td>\n",
       "      <td>1</td>\n",
       "      <td>0.842394</td>\n",
       "    </tr>\n",
       "    <tr>\n",
       "      <th>108</th>\n",
       "      <td>0</td>\n",
       "      <td>0</td>\n",
       "      <td>0.168299</td>\n",
       "    </tr>\n",
       "    <tr>\n",
       "      <th>1559</th>\n",
       "      <td>0</td>\n",
       "      <td>1</td>\n",
       "      <td>0.773752</td>\n",
       "    </tr>\n",
       "    <tr>\n",
       "      <th>87</th>\n",
       "      <td>0</td>\n",
       "      <td>0</td>\n",
       "      <td>0.186003</td>\n",
       "    </tr>\n",
       "    <tr>\n",
       "      <th>1931</th>\n",
       "      <td>1</td>\n",
       "      <td>1</td>\n",
       "      <td>0.693470</td>\n",
       "    </tr>\n",
       "    <tr>\n",
       "      <th>612</th>\n",
       "      <td>0</td>\n",
       "      <td>0</td>\n",
       "      <td>0.250457</td>\n",
       "    </tr>\n",
       "    <tr>\n",
       "      <th>1666</th>\n",
       "      <td>1</td>\n",
       "      <td>1</td>\n",
       "      <td>0.816268</td>\n",
       "    </tr>\n",
       "    <tr>\n",
       "      <th>1390</th>\n",
       "      <td>1</td>\n",
       "      <td>1</td>\n",
       "      <td>0.765496</td>\n",
       "    </tr>\n",
       "  </tbody>\n",
       "</table>\n",
       "</div>"
      ],
      "text/plain": [
       "      Actual  Predicted  Probability of Churning\n",
       "1340       1          1                 0.776286\n",
       "1441       1          0                 0.442258\n",
       "1512       1          1                 0.842394\n",
       "108        0          0                 0.168299\n",
       "1559       0          1                 0.773752\n",
       "87         0          0                 0.186003\n",
       "1931       1          1                 0.693470\n",
       "612        0          0                 0.250457\n",
       "1666       1          1                 0.816268\n",
       "1390       1          1                 0.765496"
      ]
     },
     "execution_count": 25,
     "metadata": {},
     "output_type": "execute_result"
    }
   ],
   "source": [
    "#Showing the Actual v/s Predicted Values\n",
    "svm_res= pd.DataFrame(columns= ['Actual','Predicted','Probability of Churning'])\n",
    "svm_res['Actual']= y_test\n",
    "svm_res['Predicted']= svc.predict(X_test_sc)\n",
    "svm_res['Probability of Churning']= 1-svc.predict_proba(X_test_sc)\n",
    "svm_res.head(10)"
   ]
  },
  {
   "cell_type": "markdown",
   "id": "7deb313a",
   "metadata": {},
   "source": [
    "Display of the actual vs predicted and Probability values of getting Loan Approved"
   ]
  },
  {
   "cell_type": "code",
   "execution_count": 26,
   "id": "ade8dcee",
   "metadata": {},
   "outputs": [
    {
     "name": "stdout",
     "output_type": "stream",
     "text": [
      "Accuracy of the train data : 0.7634069400630915\n",
      "Accuracy of the test data : 0.7405541561712846\n"
     ]
    }
   ],
   "source": [
    "# To calculate the accuracy score of the model\n",
    "from sklearn.metrics import accuracy_score, confusion_matrix\n",
    "\n",
    "accuracy_SVM_train = accuracy_score(y_train,y_pred_train_rbf)\n",
    "print('Accuracy of the train data :', accuracy_SVM_train)\n",
    "accuracy_SVM_test = accuracy_score(y_test,y_pred_test_rbf) \n",
    "print('Accuracy of the test data :' , accuracy_SVM_test)"
   ]
  },
  {
   "cell_type": "code",
   "execution_count": 27,
   "id": "a8c00613",
   "metadata": {
    "scrolled": false
   },
   "outputs": [
    {
     "name": "stdout",
     "output_type": "stream",
     "text": [
      "              precision    recall  f1-score   support\n",
      "\n",
      "           0       0.84      0.62      0.71       207\n",
      "           1       0.68      0.87      0.76       190\n",
      "\n",
      "    accuracy                           0.74       397\n",
      "   macro avg       0.76      0.75      0.74       397\n",
      "weighted avg       0.76      0.74      0.74       397\n",
      "\n"
     ]
    }
   ],
   "source": [
    "#Classification report\n",
    "from sklearn.metrics import classification_report\n",
    "print(classification_report(y_test , y_pred_test_rbf))"
   ]
  },
  {
   "cell_type": "markdown",
   "id": "ffdd0c98",
   "metadata": {},
   "source": [
    "### Results : SVM model \n",
    "    1) Precision for Loan not Approved Customer is 0.84 and for Loan Approved customer is 0.68\n",
    "    2) Recall for Loan not Approved Customer is 0.62 and for Loan Approved customer is 0.87 , from this result we can say \n",
    "       that model is biased towards Loan Approved Customer.\n",
    "    3) Accuracy of the model is 0.74"
   ]
  },
  {
   "cell_type": "markdown",
   "id": "b91caf9b",
   "metadata": {},
   "source": [
    "### (Model-2) Logistic Regression"
   ]
  },
  {
   "cell_type": "code",
   "execution_count": 28,
   "id": "54301973",
   "metadata": {},
   "outputs": [],
   "source": [
    "#Importing Logistic Regression package\n",
    "from sklearn.linear_model import LogisticRegression\n",
    "\n",
    "# Create a Logistic Regression Object First\n",
    "lr = LogisticRegression()\n",
    "\n",
    "#.fit() takes x, y, and possibly observation-related weights. Then it fits the model and returns the model instance itself:\n",
    "lr = lr.fit(X_train_sc, y_train)"
   ]
  },
  {
   "cell_type": "code",
   "execution_count": 29,
   "id": "7f5e1e98",
   "metadata": {},
   "outputs": [
    {
     "data": {
      "text/html": [
       "<div>\n",
       "<style scoped>\n",
       "    .dataframe tbody tr th:only-of-type {\n",
       "        vertical-align: middle;\n",
       "    }\n",
       "\n",
       "    .dataframe tbody tr th {\n",
       "        vertical-align: top;\n",
       "    }\n",
       "\n",
       "    .dataframe thead th {\n",
       "        text-align: right;\n",
       "    }\n",
       "</style>\n",
       "<table border=\"1\" class=\"dataframe\">\n",
       "  <thead>\n",
       "    <tr style=\"text-align: right;\">\n",
       "      <th></th>\n",
       "      <th>Variables</th>\n",
       "      <th>Coefficient_value</th>\n",
       "    </tr>\n",
       "  </thead>\n",
       "  <tbody>\n",
       "    <tr>\n",
       "      <th>0</th>\n",
       "      <td>Gender</td>\n",
       "      <td>0.113929</td>\n",
       "    </tr>\n",
       "    <tr>\n",
       "      <th>1</th>\n",
       "      <td>City_Feature</td>\n",
       "      <td>-0.021263</td>\n",
       "    </tr>\n",
       "    <tr>\n",
       "      <th>2</th>\n",
       "      <td>Employer_type1</td>\n",
       "      <td>0.171936</td>\n",
       "    </tr>\n",
       "    <tr>\n",
       "      <th>3</th>\n",
       "      <td>Employer_type2</td>\n",
       "      <td>-0.029016</td>\n",
       "    </tr>\n",
       "    <tr>\n",
       "      <th>4</th>\n",
       "      <td>Income</td>\n",
       "      <td>0.277874</td>\n",
       "    </tr>\n",
       "    <tr>\n",
       "      <th>5</th>\n",
       "      <td>ExistingBankType</td>\n",
       "      <td>0.124041</td>\n",
       "    </tr>\n",
       "    <tr>\n",
       "      <th>6</th>\n",
       "      <td>Source_Cat</td>\n",
       "      <td>0.087438</td>\n",
       "    </tr>\n",
       "    <tr>\n",
       "      <th>7</th>\n",
       "      <td>Existing_EMI</td>\n",
       "      <td>0.650152</td>\n",
       "    </tr>\n",
       "    <tr>\n",
       "      <th>8</th>\n",
       "      <td>Feature1</td>\n",
       "      <td>0.884429</td>\n",
       "    </tr>\n",
       "  </tbody>\n",
       "</table>\n",
       "</div>"
      ],
      "text/plain": [
       "          Variables  Coefficient_value\n",
       "0            Gender           0.113929\n",
       "1      City_Feature          -0.021263\n",
       "2    Employer_type1           0.171936\n",
       "3    Employer_type2          -0.029016\n",
       "4            Income           0.277874\n",
       "5  ExistingBankType           0.124041\n",
       "6        Source_Cat           0.087438\n",
       "7      Existing_EMI           0.650152\n",
       "8          Feature1           0.884429"
      ]
     },
     "execution_count": 29,
     "metadata": {},
     "output_type": "execute_result"
    }
   ],
   "source": [
    "#Showing the respective coefficients of all the variables with respect to y=churn\n",
    "data_coef = pd.DataFrame(columns = ['Variables', 'Coefficient_value'])\n",
    "data_coef['Variables'] = X.columns\n",
    "data_coef['Coefficient_value'] = lr.coef_[0]\n",
    "data_coef"
   ]
  },
  {
   "cell_type": "code",
   "execution_count": 30,
   "id": "201157ab",
   "metadata": {},
   "outputs": [],
   "source": [
    "#Prediction\n",
    "y_pred_test_lr = lr.predict(X_test_sc)\n",
    "y_pred_train_lr = lr.predict(X_train_sc)"
   ]
  },
  {
   "cell_type": "markdown",
   "id": "b2bc23e6",
   "metadata": {},
   "source": [
    "Predicted values of train and test dataset"
   ]
  },
  {
   "cell_type": "code",
   "execution_count": 31,
   "id": "775bd707",
   "metadata": {},
   "outputs": [
    {
     "data": {
      "text/html": [
       "<div>\n",
       "<style scoped>\n",
       "    .dataframe tbody tr th:only-of-type {\n",
       "        vertical-align: middle;\n",
       "    }\n",
       "\n",
       "    .dataframe tbody tr th {\n",
       "        vertical-align: top;\n",
       "    }\n",
       "\n",
       "    .dataframe thead th {\n",
       "        text-align: right;\n",
       "    }\n",
       "</style>\n",
       "<table border=\"1\" class=\"dataframe\">\n",
       "  <thead>\n",
       "    <tr style=\"text-align: right;\">\n",
       "      <th></th>\n",
       "      <th>Actual</th>\n",
       "      <th>Predicted</th>\n",
       "      <th>Probability of Churning</th>\n",
       "    </tr>\n",
       "  </thead>\n",
       "  <tbody>\n",
       "    <tr>\n",
       "      <th>1340</th>\n",
       "      <td>1</td>\n",
       "      <td>1</td>\n",
       "      <td>0.784879</td>\n",
       "    </tr>\n",
       "    <tr>\n",
       "      <th>1441</th>\n",
       "      <td>1</td>\n",
       "      <td>1</td>\n",
       "      <td>0.536802</td>\n",
       "    </tr>\n",
       "    <tr>\n",
       "      <th>1512</th>\n",
       "      <td>1</td>\n",
       "      <td>1</td>\n",
       "      <td>0.689480</td>\n",
       "    </tr>\n",
       "    <tr>\n",
       "      <th>108</th>\n",
       "      <td>0</td>\n",
       "      <td>0</td>\n",
       "      <td>0.174824</td>\n",
       "    </tr>\n",
       "    <tr>\n",
       "      <th>1559</th>\n",
       "      <td>0</td>\n",
       "      <td>1</td>\n",
       "      <td>0.597164</td>\n",
       "    </tr>\n",
       "    <tr>\n",
       "      <th>87</th>\n",
       "      <td>0</td>\n",
       "      <td>0</td>\n",
       "      <td>0.109800</td>\n",
       "    </tr>\n",
       "    <tr>\n",
       "      <th>1931</th>\n",
       "      <td>1</td>\n",
       "      <td>1</td>\n",
       "      <td>0.730554</td>\n",
       "    </tr>\n",
       "    <tr>\n",
       "      <th>612</th>\n",
       "      <td>0</td>\n",
       "      <td>0</td>\n",
       "      <td>0.320486</td>\n",
       "    </tr>\n",
       "    <tr>\n",
       "      <th>1666</th>\n",
       "      <td>1</td>\n",
       "      <td>1</td>\n",
       "      <td>0.668085</td>\n",
       "    </tr>\n",
       "    <tr>\n",
       "      <th>1390</th>\n",
       "      <td>1</td>\n",
       "      <td>1</td>\n",
       "      <td>0.697850</td>\n",
       "    </tr>\n",
       "  </tbody>\n",
       "</table>\n",
       "</div>"
      ],
      "text/plain": [
       "      Actual  Predicted  Probability of Churning\n",
       "1340       1          1                 0.784879\n",
       "1441       1          1                 0.536802\n",
       "1512       1          1                 0.689480\n",
       "108        0          0                 0.174824\n",
       "1559       0          1                 0.597164\n",
       "87         0          0                 0.109800\n",
       "1931       1          1                 0.730554\n",
       "612        0          0                 0.320486\n",
       "1666       1          1                 0.668085\n",
       "1390       1          1                 0.697850"
      ]
     },
     "execution_count": 31,
     "metadata": {},
     "output_type": "execute_result"
    }
   ],
   "source": [
    "#Showing the Actual v/s Predicted Values\n",
    "lr_res= pd.DataFrame(columns= ['Actual','Predicted','Probability of Churning'])\n",
    "lr_res['Actual']= y_test\n",
    "lr_res['Predicted']= lr.predict(X_test_sc)\n",
    "lr_res['Probability of Churning']= 1-lr.predict_proba(X_test_sc)\n",
    "lr_res.head(10)"
   ]
  },
  {
   "cell_type": "code",
   "execution_count": 32,
   "id": "785f9799",
   "metadata": {},
   "outputs": [
    {
     "name": "stdout",
     "output_type": "stream",
     "text": [
      "Accuracy of the train data : 0.7211356466876971\n",
      "Accuracy of the test data : 0.7405541561712846\n"
     ]
    }
   ],
   "source": [
    "# Accuracy of the train and test dataset\n",
    "accuracy_lr_train = accuracy_score(y_train,y_pred_train_lr)\n",
    "print('Accuracy of the train data :', accuracy_lr_train)\n",
    "accuracy_lr_test = accuracy_score(y_test,y_pred_test_lr) \n",
    "print('Accuracy of the test data :' , accuracy_lr_test)"
   ]
  },
  {
   "cell_type": "markdown",
   "id": "33044083",
   "metadata": {},
   "source": [
    "case of underfitting "
   ]
  },
  {
   "cell_type": "code",
   "execution_count": 33,
   "id": "73117494",
   "metadata": {
    "scrolled": false
   },
   "outputs": [
    {
     "name": "stdout",
     "output_type": "stream",
     "text": [
      "              precision    recall  f1-score   support\n",
      "\n",
      "           0       0.81      0.66      0.73       207\n",
      "           1       0.69      0.83      0.75       190\n",
      "\n",
      "    accuracy                           0.74       397\n",
      "   macro avg       0.75      0.74      0.74       397\n",
      "weighted avg       0.75      0.74      0.74       397\n",
      "\n"
     ]
    }
   ],
   "source": [
    "#Classification report\n",
    "from sklearn.metrics import classification_report\n",
    "print(classification_report(y_test , y_pred_test_lr))"
   ]
  },
  {
   "cell_type": "markdown",
   "id": "019f5078",
   "metadata": {},
   "source": [
    "### Results : Logistic Regression model \n",
    "    1) Precision for Loan not Approved Customer is 0.81 and for Loan Approved customer is 0.69\n",
    "    2) Recall for Loan not Approved Customer is 0.66 and for Loan Approved customer is 0.83 , from this result we can say \n",
    "       that model is biased towards Loan Approved Customer.\n",
    "    3) Accuracy of the model is 0.74"
   ]
  },
  {
   "cell_type": "markdown",
   "id": "c4cb18f8",
   "metadata": {},
   "source": [
    "###  (Model - 3) Decision Tree"
   ]
  },
  {
   "cell_type": "code",
   "execution_count": 34,
   "id": "80d96548",
   "metadata": {},
   "outputs": [],
   "source": [
    "# Fitting classifier to the Training set\n",
    "from sklearn.tree import DecisionTreeClassifier\n",
    "classifier_dt = DecisionTreeClassifier(criterion = 'gini', max_leaf_nodes=100, random_state = 33)\n",
    "dt = classifier_dt.fit(X_train_sc, y_train)"
   ]
  },
  {
   "cell_type": "code",
   "execution_count": 35,
   "id": "fd0388c9",
   "metadata": {},
   "outputs": [
    {
     "data": {
      "text/html": [
       "<div>\n",
       "<style scoped>\n",
       "    .dataframe tbody tr th:only-of-type {\n",
       "        vertical-align: middle;\n",
       "    }\n",
       "\n",
       "    .dataframe tbody tr th {\n",
       "        vertical-align: top;\n",
       "    }\n",
       "\n",
       "    .dataframe thead th {\n",
       "        text-align: right;\n",
       "    }\n",
       "</style>\n",
       "<table border=\"1\" class=\"dataframe\">\n",
       "  <thead>\n",
       "    <tr style=\"text-align: right;\">\n",
       "      <th></th>\n",
       "      <th>Actual</th>\n",
       "      <th>Predicted</th>\n",
       "      <th>Probability of Churning</th>\n",
       "    </tr>\n",
       "  </thead>\n",
       "  <tbody>\n",
       "    <tr>\n",
       "      <th>1340</th>\n",
       "      <td>1</td>\n",
       "      <td>1</td>\n",
       "      <td>0.875776</td>\n",
       "    </tr>\n",
       "    <tr>\n",
       "      <th>1441</th>\n",
       "      <td>1</td>\n",
       "      <td>0</td>\n",
       "      <td>0.222222</td>\n",
       "    </tr>\n",
       "    <tr>\n",
       "      <th>1512</th>\n",
       "      <td>1</td>\n",
       "      <td>1</td>\n",
       "      <td>0.875776</td>\n",
       "    </tr>\n",
       "    <tr>\n",
       "      <th>108</th>\n",
       "      <td>0</td>\n",
       "      <td>0</td>\n",
       "      <td>0.020067</td>\n",
       "    </tr>\n",
       "    <tr>\n",
       "      <th>1559</th>\n",
       "      <td>0</td>\n",
       "      <td>1</td>\n",
       "      <td>0.888889</td>\n",
       "    </tr>\n",
       "    <tr>\n",
       "      <th>87</th>\n",
       "      <td>0</td>\n",
       "      <td>0</td>\n",
       "      <td>0.020067</td>\n",
       "    </tr>\n",
       "    <tr>\n",
       "      <th>1931</th>\n",
       "      <td>1</td>\n",
       "      <td>0</td>\n",
       "      <td>0.000000</td>\n",
       "    </tr>\n",
       "    <tr>\n",
       "      <th>612</th>\n",
       "      <td>0</td>\n",
       "      <td>0</td>\n",
       "      <td>0.295699</td>\n",
       "    </tr>\n",
       "    <tr>\n",
       "      <th>1666</th>\n",
       "      <td>1</td>\n",
       "      <td>1</td>\n",
       "      <td>0.888889</td>\n",
       "    </tr>\n",
       "    <tr>\n",
       "      <th>1390</th>\n",
       "      <td>1</td>\n",
       "      <td>1</td>\n",
       "      <td>0.636364</td>\n",
       "    </tr>\n",
       "  </tbody>\n",
       "</table>\n",
       "</div>"
      ],
      "text/plain": [
       "      Actual  Predicted  Probability of Churning\n",
       "1340       1          1                 0.875776\n",
       "1441       1          0                 0.222222\n",
       "1512       1          1                 0.875776\n",
       "108        0          0                 0.020067\n",
       "1559       0          1                 0.888889\n",
       "87         0          0                 0.020067\n",
       "1931       1          0                 0.000000\n",
       "612        0          0                 0.295699\n",
       "1666       1          1                 0.888889\n",
       "1390       1          1                 0.636364"
      ]
     },
     "execution_count": 35,
     "metadata": {},
     "output_type": "execute_result"
    }
   ],
   "source": [
    "#Showing the Actual v/s Predicted Values\n",
    "dt_res= pd.DataFrame(columns= ['Actual','Predicted','Probability of Churning'])\n",
    "dt_res['Actual']= y_test\n",
    "dt_res['Predicted']= dt.predict(X_test_sc)\n",
    "dt_res['Probability of Churning']= 1-dt.predict_proba(X_test_sc)\n",
    "dt_res.head(10)"
   ]
  },
  {
   "cell_type": "code",
   "execution_count": 36,
   "id": "b79017cf",
   "metadata": {},
   "outputs": [
    {
     "name": "stdout",
     "output_type": "stream",
     "text": [
      "Accuracy of Training set:  0.8441640378548896\n",
      "Accuracy of Test set:  0.7329974811083123\n"
     ]
    }
   ],
   "source": [
    "# Predicting Cross Validation Score\n",
    "from sklearn.model_selection import cross_val_score\n",
    "\n",
    "y_pred_dt_train = classifier_dt.predict(X_train_sc) \n",
    "accuracy_dt_train = accuracy_score(y_train, y_pred_dt_train)\n",
    "print(\"Accuracy of Training set: \", accuracy_dt_train)\n",
    "\n",
    "y_pred_dt_test = classifier_dt.predict(X_test_sc)\n",
    "accuracy_dt_test = accuracy_score(y_test, y_pred_dt_test)\n",
    "print(\"Accuracy of Test set: \", accuracy_dt_test)"
   ]
  },
  {
   "cell_type": "code",
   "execution_count": 37,
   "id": "2eb5426e",
   "metadata": {
    "scrolled": false
   },
   "outputs": [
    {
     "name": "stdout",
     "output_type": "stream",
     "text": [
      "              precision    recall  f1-score   support\n",
      "\n",
      "           0       0.79      0.67      0.72       207\n",
      "           1       0.69      0.81      0.74       190\n",
      "\n",
      "    accuracy                           0.73       397\n",
      "   macro avg       0.74      0.74      0.73       397\n",
      "weighted avg       0.74      0.73      0.73       397\n",
      "\n"
     ]
    }
   ],
   "source": [
    "#Classification report\n",
    "from sklearn.metrics import classification_report\n",
    "print(classification_report(y_test , y_pred_dt_test))"
   ]
  },
  {
   "cell_type": "markdown",
   "id": "d36b20c3",
   "metadata": {},
   "source": [
    "### Results : Decision Tree model \n",
    "    1) Precision for Loan not Approved Customer is 0.79 and for Loan Approved customer is 0.69\n",
    "    2) Recall for Loan not Approved Customer is 0.67 and for Loan Approved customer is 0.81 , from this result we can say \n",
    "       that model is biased towards Loan Approved Customer.\n",
    "    3) Accuracy of the model is 0.73"
   ]
  },
  {
   "cell_type": "markdown",
   "id": "6ce780d2",
   "metadata": {},
   "source": [
    "### (Model-4) Random Forest"
   ]
  },
  {
   "cell_type": "code",
   "execution_count": 38,
   "id": "faa3c259",
   "metadata": {},
   "outputs": [],
   "source": [
    "#Importing the Random Forest Classifier\n",
    "from sklearn.ensemble import RandomForestClassifier\n",
    "from sklearn import tree"
   ]
  },
  {
   "cell_type": "code",
   "execution_count": 39,
   "id": "13eb2b69",
   "metadata": {},
   "outputs": [
    {
     "data": {
      "text/html": [
       "<div>\n",
       "<style scoped>\n",
       "    .dataframe tbody tr th:only-of-type {\n",
       "        vertical-align: middle;\n",
       "    }\n",
       "\n",
       "    .dataframe tbody tr th {\n",
       "        vertical-align: top;\n",
       "    }\n",
       "\n",
       "    .dataframe thead th {\n",
       "        text-align: right;\n",
       "    }\n",
       "</style>\n",
       "<table border=\"1\" class=\"dataframe\">\n",
       "  <thead>\n",
       "    <tr style=\"text-align: right;\">\n",
       "      <th></th>\n",
       "      <th>No. of Trees</th>\n",
       "      <th>Accuracy</th>\n",
       "      <th>F1 Score</th>\n",
       "    </tr>\n",
       "  </thead>\n",
       "  <tbody>\n",
       "    <tr>\n",
       "      <th>0</th>\n",
       "      <td>100</td>\n",
       "      <td>72.04</td>\n",
       "      <td>72.99</td>\n",
       "    </tr>\n",
       "    <tr>\n",
       "      <th>1</th>\n",
       "      <td>125</td>\n",
       "      <td>72.04</td>\n",
       "      <td>73.12</td>\n",
       "    </tr>\n",
       "    <tr>\n",
       "      <th>2</th>\n",
       "      <td>150</td>\n",
       "      <td>72.54</td>\n",
       "      <td>73.61</td>\n",
       "    </tr>\n",
       "    <tr>\n",
       "      <th>3</th>\n",
       "      <td>175</td>\n",
       "      <td>72.54</td>\n",
       "      <td>73.35</td>\n",
       "    </tr>\n",
       "    <tr>\n",
       "      <th>4</th>\n",
       "      <td>200</td>\n",
       "      <td>71.54</td>\n",
       "      <td>72.24</td>\n",
       "    </tr>\n",
       "    <tr>\n",
       "      <th>5</th>\n",
       "      <td>225</td>\n",
       "      <td>71.79</td>\n",
       "      <td>72.55</td>\n",
       "    </tr>\n",
       "    <tr>\n",
       "      <th>6</th>\n",
       "      <td>250</td>\n",
       "      <td>71.54</td>\n",
       "      <td>72.51</td>\n",
       "    </tr>\n",
       "    <tr>\n",
       "      <th>7</th>\n",
       "      <td>275</td>\n",
       "      <td>71.54</td>\n",
       "      <td>72.37</td>\n",
       "    </tr>\n",
       "    <tr>\n",
       "      <th>8</th>\n",
       "      <td>300</td>\n",
       "      <td>71.79</td>\n",
       "      <td>72.55</td>\n",
       "    </tr>\n",
       "    <tr>\n",
       "      <th>9</th>\n",
       "      <td>325</td>\n",
       "      <td>71.28</td>\n",
       "      <td>72.33</td>\n",
       "    </tr>\n",
       "    <tr>\n",
       "      <th>10</th>\n",
       "      <td>350</td>\n",
       "      <td>71.28</td>\n",
       "      <td>72.2</td>\n",
       "    </tr>\n",
       "    <tr>\n",
       "      <th>11</th>\n",
       "      <td>375</td>\n",
       "      <td>72.04</td>\n",
       "      <td>73.12</td>\n",
       "    </tr>\n",
       "  </tbody>\n",
       "</table>\n",
       "</div>"
      ],
      "text/plain": [
       "   No. of Trees Accuracy F1 Score\n",
       "0           100    72.04    72.99\n",
       "1           125    72.04    73.12\n",
       "2           150    72.54    73.61\n",
       "3           175    72.54    73.35\n",
       "4           200    71.54    72.24\n",
       "5           225    71.79    72.55\n",
       "6           250    71.54    72.51\n",
       "7           275    71.54    72.37\n",
       "8           300    71.79    72.55\n",
       "9           325    71.28    72.33\n",
       "10          350    71.28     72.2\n",
       "11          375    72.04    73.12"
      ]
     },
     "execution_count": 39,
     "metadata": {},
     "output_type": "execute_result"
    }
   ],
   "source": [
    "rf_accuracy_df= pd.DataFrame(columns=['No. of Trees','Accuracy','F1 Score'])\n",
    "count=0\n",
    "\n",
    "#Creating various Random Forest Models to find the appropriate no. of trees\n",
    "for i in range(100,400,25):\n",
    "    rf_models=RandomForestClassifier(n_estimators=i,criterion='gini',random_state=0)\n",
    "    rf_models.fit(X_train_sc,y_train)\n",
    "    y_rf_pred=rf_models.predict(X_test_sc)       \n",
    "    rf_accuracy_df.loc[count,'No. of Trees']= i\n",
    "    rf_accuracy_df.loc[count,'Accuracy']= round(metrics.accuracy_score(y_test,y_rf_pred)*100,2)\n",
    "    rf_accuracy_df.loc[count,'F1 Score']= round(metrics.f1_score(y_test,y_rf_pred)*100,2)\n",
    "    count=count+1\n",
    "\n",
    "rf_accuracy_df"
   ]
  },
  {
   "cell_type": "code",
   "execution_count": 40,
   "id": "7e7d4779",
   "metadata": {},
   "outputs": [],
   "source": [
    "#Final Random Forest model with 350 trees, using gini as criterion and random state is 0\n",
    "rf = RandomForestClassifier(n_estimators=350, criterion='gini',random_state=0)\n",
    "\n",
    "#Fitting the model with the training data\n",
    "rf = rf.fit(X_train_sc, y_train)"
   ]
  },
  {
   "cell_type": "code",
   "execution_count": 41,
   "id": "872f6abf",
   "metadata": {},
   "outputs": [
    {
     "name": "stdout",
     "output_type": "stream",
     "text": [
      "Training set:  0.9899053627760253\n",
      "Test set:  0.7128463476070529\n"
     ]
    }
   ],
   "source": [
    "# Accuracy of the train and test dataset\n",
    "y_pred_rf_train = rf.predict(X_train_sc)\n",
    "accuracy_rf_train = accuracy_score(y_train, y_pred_rf_train)\n",
    "print(\"Training set: \", accur acy_rf_train)\n",
    "\n",
    "y_pred_rf_test = rf.predict(X_test_sc)\n",
    "accuracy_rf_test = accuracy_score(y_test, y_pred_rf_test)\n",
    "print(\"Test set: \", accuracy_rf_test)"
   ]
  },
  {
   "cell_type": "code",
   "execution_count": 42,
   "id": "2eb7e9f0",
   "metadata": {},
   "outputs": [
    {
     "data": {
      "text/plain": [
       "array([[135,  72],\n",
       "       [ 42, 148]], dtype=int64)"
      ]
     },
     "execution_count": 42,
     "metadata": {},
     "output_type": "execute_result"
    }
   ],
   "source": [
    "confusion_matrix(y_test, y_pred_rf_test)"
   ]
  },
  {
   "cell_type": "code",
   "execution_count": 43,
   "id": "7cf9ccc7",
   "metadata": {},
   "outputs": [
    {
     "data": {
      "text/html": [
       "<div>\n",
       "<style scoped>\n",
       "    .dataframe tbody tr th:only-of-type {\n",
       "        vertical-align: middle;\n",
       "    }\n",
       "\n",
       "    .dataframe tbody tr th {\n",
       "        vertical-align: top;\n",
       "    }\n",
       "\n",
       "    .dataframe thead th {\n",
       "        text-align: right;\n",
       "    }\n",
       "</style>\n",
       "<table border=\"1\" class=\"dataframe\">\n",
       "  <thead>\n",
       "    <tr style=\"text-align: right;\">\n",
       "      <th></th>\n",
       "      <th>Actual</th>\n",
       "      <th>Predicted</th>\n",
       "      <th>Probability of Churning</th>\n",
       "    </tr>\n",
       "  </thead>\n",
       "  <tbody>\n",
       "    <tr>\n",
       "      <th>1340</th>\n",
       "      <td>1</td>\n",
       "      <td>1</td>\n",
       "      <td>0.914286</td>\n",
       "    </tr>\n",
       "    <tr>\n",
       "      <th>1441</th>\n",
       "      <td>1</td>\n",
       "      <td>0</td>\n",
       "      <td>0.380000</td>\n",
       "    </tr>\n",
       "    <tr>\n",
       "      <th>1512</th>\n",
       "      <td>1</td>\n",
       "      <td>1</td>\n",
       "      <td>0.922857</td>\n",
       "    </tr>\n",
       "    <tr>\n",
       "      <th>108</th>\n",
       "      <td>0</td>\n",
       "      <td>0</td>\n",
       "      <td>0.000000</td>\n",
       "    </tr>\n",
       "    <tr>\n",
       "      <th>1559</th>\n",
       "      <td>0</td>\n",
       "      <td>1</td>\n",
       "      <td>0.854286</td>\n",
       "    </tr>\n",
       "    <tr>\n",
       "      <th>87</th>\n",
       "      <td>0</td>\n",
       "      <td>0</td>\n",
       "      <td>0.000000</td>\n",
       "    </tr>\n",
       "    <tr>\n",
       "      <th>1931</th>\n",
       "      <td>1</td>\n",
       "      <td>1</td>\n",
       "      <td>0.648571</td>\n",
       "    </tr>\n",
       "    <tr>\n",
       "      <th>612</th>\n",
       "      <td>0</td>\n",
       "      <td>0</td>\n",
       "      <td>0.486524</td>\n",
       "    </tr>\n",
       "    <tr>\n",
       "      <th>1666</th>\n",
       "      <td>1</td>\n",
       "      <td>1</td>\n",
       "      <td>0.657143</td>\n",
       "    </tr>\n",
       "    <tr>\n",
       "      <th>1390</th>\n",
       "      <td>1</td>\n",
       "      <td>1</td>\n",
       "      <td>0.601175</td>\n",
       "    </tr>\n",
       "  </tbody>\n",
       "</table>\n",
       "</div>"
      ],
      "text/plain": [
       "      Actual  Predicted  Probability of Churning\n",
       "1340       1          1                 0.914286\n",
       "1441       1          0                 0.380000\n",
       "1512       1          1                 0.922857\n",
       "108        0          0                 0.000000\n",
       "1559       0          1                 0.854286\n",
       "87         0          0                 0.000000\n",
       "1931       1          1                 0.648571\n",
       "612        0          0                 0.486524\n",
       "1666       1          1                 0.657143\n",
       "1390       1          1                 0.601175"
      ]
     },
     "execution_count": 43,
     "metadata": {},
     "output_type": "execute_result"
    }
   ],
   "source": [
    "#Showing the Actual v/s Predicted Values\n",
    "rf_res= pd.DataFrame(columns= ['Actual','Predicted','Probability of Churning'])\n",
    "rf_res['Actual']= y_test\n",
    "rf_res['Predicted']= rf.predict(X_test_sc)\n",
    "rf_res['Probability of Churning']= 1-rf.predict_proba(X_test_sc)\n",
    "rf_res.head(10)"
   ]
  },
  {
   "cell_type": "code",
   "execution_count": 44,
   "id": "5bf0e08f",
   "metadata": {
    "scrolled": true
   },
   "outputs": [
    {
     "name": "stdout",
     "output_type": "stream",
     "text": [
      "              precision    recall  f1-score   support\n",
      "\n",
      "           0       0.76      0.65      0.70       207\n",
      "           1       0.67      0.78      0.72       190\n",
      "\n",
      "    accuracy                           0.71       397\n",
      "   macro avg       0.72      0.72      0.71       397\n",
      "weighted avg       0.72      0.71      0.71       397\n",
      "\n"
     ]
    }
   ],
   "source": [
    "#Classification report\n",
    "print(classification_report(y_test , y_pred_rf_test))"
   ]
  },
  {
   "cell_type": "markdown",
   "id": "b5f41ac0",
   "metadata": {},
   "source": [
    "### Results : Random Forest model \n",
    "    1) Precision for Loan not Approved Customer is 0.76 and for Loan Approved customer is 0.67\n",
    "    2) Recall for Loan not Approved Customer is 0.65 and for Loan Approved customer is 0.78 , from this result we can say \n",
    "       that model is biased towards Loan Approved Customer.\n",
    "    3) Accuracy of the model is 0.71"
   ]
  },
  {
   "cell_type": "markdown",
   "id": "d79139e9",
   "metadata": {},
   "source": [
    "## 5) Compare the accuracy, precision, recall of the above models with each other"
   ]
  },
  {
   "cell_type": "code",
   "execution_count": 45,
   "id": "502e5261",
   "metadata": {},
   "outputs": [],
   "source": [
    "# creating the arrays of probabilities of churning for every model\n",
    "probs_svm = svm_res.iloc[:, 2]\n",
    "probs_lr = lr_res.iloc[:, 2]\n",
    "probs_dt = dt_res.iloc[:, 2]\n",
    "probs_rf = rf_res.iloc[:, 2]"
   ]
  },
  {
   "cell_type": "markdown",
   "id": "10ff456c",
   "metadata": {},
   "source": [
    "### ROC Curves of the Models"
   ]
  },
  {
   "cell_type": "code",
   "execution_count": 46,
   "id": "e494bf7d",
   "metadata": {
    "scrolled": false
   },
   "outputs": [
    {
     "data": {
      "text/plain": [
       "<matplotlib.legend.Legend at 0x28ba1ded840>"
      ]
     },
     "execution_count": 46,
     "metadata": {},
     "output_type": "execute_result"
    },
    {
     "data": {
      "image/png": "[encoded data removed]",
      "text/plain": [
       "<Figure size 1200x800 with 1 Axes>"
      ]
     },
     "metadata": {},
     "output_type": "display_data"
    }
   ],
   "source": [
    "#plotting ROC (Receiver's operating characteristics): true positive rate(recall) against false positive rate\n",
    "\n",
    "plt.figure(figsize=(12,8))\n",
    "\n",
    "svm_fpr, svm_tpr, thresholds = metrics.roc_curve(y_test, probs_svm)\n",
    "auc_scoreSVM = metrics.roc_auc_score(y_test, probs_svm)\n",
    "plt.plot(svm_fpr, svm_tpr, marker='.', label = 'SVM(AUC= %.2f)' % auc_scoreSVM, color='tomato')\n",
    "\n",
    "lr_fpr, lr_tpr, thresholds = metrics.roc_curve(y_test, probs_lr)\n",
    "auc_scoreLr = metrics.roc_auc_score(y_test, probs_lr)\n",
    "plt.plot(lr_fpr, lr_tpr, marker='.', label = 'Lr(AUC= %.2f)' % auc_scoreLr, color='lime')\n",
    "\n",
    "dt_fpr, dt_tpr, thresholds = metrics.roc_curve(y_test, probs_dt)\n",
    "auc_scoreDt = metrics.roc_auc_score(y_test, probs_dt)\n",
    "plt.plot(dt_fpr, dt_tpr, marker='.', label = 'Dt(AUC= %.2f)' % auc_scoreDt,  color='gold')\n",
    "\n",
    "rf_fpr, rf_tpr, thresholds = metrics.roc_curve(y_test, probs_rf)\n",
    "auc_scoreRf = metrics.roc_auc_score(y_test, probs_rf)\n",
    "plt.plot(rf_fpr, rf_tpr, marker='.', label= 'Rf(AUC= %.2f)' % auc_scoreRf, color='darkviolet')\n",
    "\n",
    "plt.title('ROC Curves of all Models', fontsize= 20)\n",
    "plt.xlabel('False Positive Rate', fontsize= 12)\n",
    "plt.ylabel('True Positive Rate', fontsize= 12)\n",
    "\n",
    "plt.legend()"
   ]
  },
  {
   "cell_type": "markdown",
   "id": "9b24ff89",
   "metadata": {},
   "source": [
    "Highest AOC value of ROC curve coming is 0.84 in SVM model followed by the Logistic and the smallest is in Decision tree"
   ]
  },
  {
   "cell_type": "markdown",
   "id": "f532ce3f",
   "metadata": {},
   "source": [
    "### Precision Recall Curves of the Models"
   ]
  },
  {
   "cell_type": "code",
   "execution_count": 47,
   "id": "aa6c7b5b",
   "metadata": {
    "scrolled": true
   },
   "outputs": [
    {
     "data": {
      "text/plain": [
       "<matplotlib.legend.Legend at 0x28ba1d56a70>"
      ]
     },
     "execution_count": 47,
     "metadata": {},
     "output_type": "execute_result"
    },
    {
     "data": {
      "image/png": "[encoded data removed]",
      "text/plain": [
       "<Figure size 1200x800 with 1 Axes>"
      ]
     },
     "metadata": {},
     "output_type": "display_data"
    }
   ],
   "source": [
    "#plotting precision against recall \n",
    "#values of precision, recall and threshold are obtained throught scikit learn library \n",
    "\n",
    "plt.figure(figsize=(12,8))\n",
    "\n",
    "svm_precision, svm_recall, thresholds = metrics.precision_recall_curve(y_test, probs_svm)\n",
    "pr_auc_score_svm = metrics.auc(svm_recall, svm_precision)\n",
    "plt.plot(svm_recall, svm_precision, marker = '.', label = 'SVM(AUC= %.2f)' % pr_auc_score_svm)\n",
    "\n",
    "lr_precision, lr_recall, thresholds = metrics.precision_recall_curve(y_test, probs_lr)\n",
    "pr_auc_score_lr = metrics.auc(lr_recall, lr_precision)\n",
    "plt.plot(lr_recall, lr_precision, marker = '.', label = 'LR(AUC= %.2f)' % pr_auc_score_lr)\n",
    "\n",
    "dt_precision, dt_recall, thresholds = metrics.precision_recall_curve(y_test, probs_dt)\n",
    "pr_auc_score_dt = metrics.auc(dt_recall, dt_precision)\n",
    "plt.plot(dt_recall, dt_precision, marker = '.', label = 'DT(AUC= %.2f)' % pr_auc_score_dt)\n",
    " \n",
    "rf_precision, rf_recall, thresholds = metrics.precision_recall_curve(y_test, probs_rf)\n",
    "pr_auc_score_rf = metrics.auc(rf_recall, rf_precision)\n",
    "plt.plot(rf_recall, rf_precision, marker = '.', label = 'RF(AUC= %.2f)' % pr_auc_score_rf)\n",
    "\n",
    "#sns.lineplot([0,1], [0.5, 0.5], linestyle = '--')\n",
    "\n",
    "plt.title('Precision Recall Curves of all Models', fontsize= 20)\n",
    "plt.xlabel('Recall', fontsize= 12)\n",
    "plt.ylabel('Precision', fontsize= 12)\n",
    "         \n",
    "plt.legend()"
   ]
  },
  {
   "cell_type": "markdown",
   "id": "026d671a",
   "metadata": {},
   "source": [
    "###  Comparision of Accuracy of the models "
   ]
  },
  {
   "cell_type": "code",
   "execution_count": 48,
   "id": "fa041511",
   "metadata": {},
   "outputs": [],
   "source": [
    "models =  [('SVM' , accuracy_SVM_train, accuracy_SVM_test) , ('Logistic Regression' , accuracy_lr_train, accuracy_lr_test),('Decision tree',\n",
    "            accuracy_dt_train, accuracy_dt_test),('Random Forest' , accuracy_rf_train, accuracy_rf_test)]"
   ]
  },
  {
   "cell_type": "code",
   "execution_count": 49,
   "id": "7bb8ffb4",
   "metadata": {},
   "outputs": [
    {
     "data": {
      "text/html": [
       "<div>\n",
       "<style scoped>\n",
       "    .dataframe tbody tr th:only-of-type {\n",
       "        vertical-align: middle;\n",
       "    }\n",
       "\n",
       "    .dataframe tbody tr th {\n",
       "        vertical-align: top;\n",
       "    }\n",
       "\n",
       "    .dataframe thead th {\n",
       "        text-align: right;\n",
       "    }\n",
       "</style>\n",
       "<table border=\"1\" class=\"dataframe\">\n",
       "  <thead>\n",
       "    <tr style=\"text-align: right;\">\n",
       "      <th></th>\n",
       "      <th>Model</th>\n",
       "      <th>Accuracy(training)</th>\n",
       "      <th>Accuracy(test)</th>\n",
       "    </tr>\n",
       "  </thead>\n",
       "  <tbody>\n",
       "    <tr>\n",
       "      <th>0</th>\n",
       "      <td>SVM</td>\n",
       "      <td>0.763407</td>\n",
       "      <td>0.740554</td>\n",
       "    </tr>\n",
       "    <tr>\n",
       "      <th>1</th>\n",
       "      <td>Logistic Regression</td>\n",
       "      <td>0.721136</td>\n",
       "      <td>0.740554</td>\n",
       "    </tr>\n",
       "    <tr>\n",
       "      <th>2</th>\n",
       "      <td>Decision tree</td>\n",
       "      <td>0.844164</td>\n",
       "      <td>0.732997</td>\n",
       "    </tr>\n",
       "    <tr>\n",
       "      <th>3</th>\n",
       "      <td>Random Forest</td>\n",
       "      <td>0.989905</td>\n",
       "      <td>0.712846</td>\n",
       "    </tr>\n",
       "  </tbody>\n",
       "</table>\n",
       "</div>"
      ],
      "text/plain": [
       "                 Model  Accuracy(training)  Accuracy(test)\n",
       "0                  SVM            0.763407        0.740554\n",
       "1  Logistic Regression            0.721136        0.740554\n",
       "2        Decision tree            0.844164        0.732997\n",
       "3        Random Forest            0.989905        0.712846"
      ]
     },
     "execution_count": 49,
     "metadata": {},
     "output_type": "execute_result"
    }
   ],
   "source": [
    "predict = pd.DataFrame(data = models, columns=['Model', 'Accuracy(training)', 'Accuracy(test)'])\n",
    "predict"
   ]
  },
  {
   "cell_type": "code",
   "execution_count": 50,
   "id": "f4b3f64d",
   "metadata": {
    "scrolled": true
   },
   "outputs": [
    {
     "data": {
      "image/png": "[encoded data removed]",
      "text/plain": [
       "<Figure size 1400x1000 with 2 Axes>"
      ]
     },
     "metadata": {},
     "output_type": "display_data"
    }
   ],
   "source": [
    "f, axes = plt.subplots(2,1, figsize=(14,10))\n",
    "\n",
    "predict.sort_values(by=['Accuracy(training)'],  inplace=True)\n",
    "\n",
    "sns.barplot(x='Accuracy(training)', y='Model', data = predict, palette='Blues_d', ax = axes[0])\n",
    "#axes[0].set(xlabel='Region', ylabel='Charges')\n",
    "axes[0].set_xlabel('Accuracy (Training)', size=16)\n",
    "axes[0].set_ylabel('Model')\n",
    "axes[0].set_xlim(0,1.0)\n",
    "axes[0].set_xticks(np.arange(0, 1.1, 0.1))\n",
    "\n",
    "predict.sort_values(by=['Accuracy(test)'],  inplace=True)\n",
    "\n",
    "sns.barplot(x='Accuracy(test)', y='Model', data = predict, palette='Reds_d', ax = axes[1])\n",
    "#axes[0].set(xlabel='Region', ylabel='Charges')\n",
    "axes[1].set_xlabel('Accuracy (Test)', size=16)\n",
    "axes[1].set_ylabel('Model')\n",
    "axes[1].set_xlim(0,1.0)\n",
    "axes[1].set_xticks(np.arange(0, 1.1, 0.1))\n",
    "\n",
    "plt.show()"
   ]
  },
  {
   "cell_type": "markdown",
   "id": "d87d7ad1",
   "metadata": {},
   "source": [
    "## Conclusion "
   ]
  },
  {
   "cell_type": "markdown",
   "id": "1d9805dd",
   "metadata": {},
   "source": [
    "On the basis of this analysis , as we can see the difference between the accuracy of training and test dataset is less in SVM Model\n",
    "than the other modelso will take SVM model into consideration.\n",
    "In case of Random Forest accuracy of the train dataset is so high almost near to 1 i.e 0.99 and of the test dataset is .71 which is very less than train data\n",
    "and this is the case of overfitting of the model therefore Random Forest is not considerable."
   ]
  },
  {
   "cell_type": "markdown",
   "id": "3e9622b0",
   "metadata": {},
   "source": [
    "## Feature Importance"
   ]
  },
  {
   "cell_type": "code",
   "execution_count": 51,
   "id": "e21ace70",
   "metadata": {},
   "outputs": [
    {
     "data": {
      "text/html": [
       "<div>\n",
       "<style scoped>\n",
       "    .dataframe tbody tr th:only-of-type {\n",
       "        vertical-align: middle;\n",
       "    }\n",
       "\n",
       "    .dataframe tbody tr th {\n",
       "        vertical-align: top;\n",
       "    }\n",
       "\n",
       "    .dataframe thead th {\n",
       "        text-align: right;\n",
       "    }\n",
       "</style>\n",
       "<table border=\"1\" class=\"dataframe\">\n",
       "  <thead>\n",
       "    <tr style=\"text-align: right;\">\n",
       "      <th></th>\n",
       "      <th>Feature Name</th>\n",
       "      <th>Importance %</th>\n",
       "    </tr>\n",
       "  </thead>\n",
       "  <tbody>\n",
       "    <tr>\n",
       "      <th>4</th>\n",
       "      <td>Income</td>\n",
       "      <td>46.740179</td>\n",
       "    </tr>\n",
       "    <tr>\n",
       "      <th>7</th>\n",
       "      <td>Existing_EMI</td>\n",
       "      <td>14.069003</td>\n",
       "    </tr>\n",
       "    <tr>\n",
       "      <th>8</th>\n",
       "      <td>Feature1</td>\n",
       "      <td>12.312402</td>\n",
       "    </tr>\n",
       "    <tr>\n",
       "      <th>6</th>\n",
       "      <td>Source_Cat</td>\n",
       "      <td>6.133366</td>\n",
       "    </tr>\n",
       "    <tr>\n",
       "      <th>2</th>\n",
       "      <td>Employer_type1</td>\n",
       "      <td>6.115246</td>\n",
       "    </tr>\n",
       "    <tr>\n",
       "      <th>1</th>\n",
       "      <td>City_Feature</td>\n",
       "      <td>4.067294</td>\n",
       "    </tr>\n",
       "    <tr>\n",
       "      <th>3</th>\n",
       "      <td>Employer_type2</td>\n",
       "      <td>3.881862</td>\n",
       "    </tr>\n",
       "    <tr>\n",
       "      <th>0</th>\n",
       "      <td>Gender</td>\n",
       "      <td>3.428636</td>\n",
       "    </tr>\n",
       "    <tr>\n",
       "      <th>5</th>\n",
       "      <td>ExistingBankType</td>\n",
       "      <td>3.252012</td>\n",
       "    </tr>\n",
       "  </tbody>\n",
       "</table>\n",
       "</div>"
      ],
      "text/plain": [
       "       Feature Name  Importance %\n",
       "4            Income     46.740179\n",
       "7      Existing_EMI     14.069003\n",
       "8          Feature1     12.312402\n",
       "6        Source_Cat      6.133366\n",
       "2    Employer_type1      6.115246\n",
       "1      City_Feature      4.067294\n",
       "3    Employer_type2      3.881862\n",
       "0            Gender      3.428636\n",
       "5  ExistingBankType      3.252012"
      ]
     },
     "execution_count": 51,
     "metadata": {},
     "output_type": "execute_result"
    }
   ],
   "source": [
    "#calculating feature importance\n",
    "importances = rf.feature_importances_*100\n",
    "\n",
    "#creating a feature importance dataframe\n",
    "impfea_df = pd.DataFrame({'Feature Name': X_train.columns, 'Importance %': importances})\n",
    "impfea_df.sort_values(by= 'Importance %', ascending= False)"
   ]
  },
  {
   "cell_type": "code",
   "execution_count": 52,
   "id": "6b38ccaa",
   "metadata": {},
   "outputs": [
    {
     "data": {
      "image/png": "[encoded data removed]",
      "text/plain": [
       "<Figure size 1000x1000 with 1 Axes>"
      ]
     },
     "metadata": {},
     "output_type": "display_data"
    }
   ],
   "source": [
    "#sorting features in decending order of their importance\n",
    "indices = np.argsort(importances)[::1] \n",
    "names = [X_train.columns[i] for i in indices]\n",
    "\n",
    "#Visualizing feature importance\n",
    "plt.figure(figsize=(10,10))\n",
    "plt.barh(range(X_train.shape[1]),importances[indices], color= 'mediumvioletred')\n",
    "plt.yticks(range(X_train.shape[1]), names)\n",
    "plt.title(\"Feature Importance\")\n",
    "plt.title('Feature Importance', fontsize= 20)\n",
    "plt.xlabel('Percentage Importance', fontsize= 12)\n",
    "plt.show()"
   ]
  },
  {
   "cell_type": "markdown",
   "id": "b880757e",
   "metadata": {},
   "source": [
    "As we can see income feature is having nearly half of the feature importance(0.467) followed by the Existing_EMI(0.1406) and Feature1  (0.123) and else."
   ]
  },
  {
   "cell_type": "code",
   "execution_count": null,
   "id": "91db8fe1",
   "metadata": {},
   "outputs": [],
   "source": []
  }
 ],
 "metadata": {
  "kernelspec": {
   "display_name": "Python 3 (ipykernel)",
   "language": "python",
   "name": "python3"
  },
  "language_info": {
   "codemirror_mode": {
    "name": "ipython",
    "version": 3
   },
   "file_extension": ".py",
   "mimetype": "text/x-python",
   "name": "python",
   "nbconvert_exporter": "python",
   "pygments_lexer": "ipython3",
   "version": "3.10.6"
  }
 },
 "nbformat": 4,
 "nbformat_minor": 5
}
