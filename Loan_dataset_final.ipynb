{
 "cells": [
  {
   "cell_type": "markdown",
   "id": "f21c3ff5",
   "metadata": {},
   "source": [
    "## A. Data Loading and Exploration"
   ]
  },
  {
   "cell_type": "markdown",
   "id": "a1333f67",
   "metadata": {},
   "source": [
    "Importing Necessary libraries"
   ]
  },
  {
   "cell_type": "code",
   "execution_count": 1,
   "id": "2c734ccd",
   "metadata": {},
   "outputs": [],
   "source": [
    "import pandas as pd\n",
    "import numpy as np\n",
    "import matplotlib.pyplot as plt\n",
    "import seaborn as sns\n",
    "from sklearn import metrics\n",
    "import warnings\n",
    "warnings.filterwarnings('ignore')"
   ]
  },
  {
   "cell_type": "code",
   "execution_count": 2,
   "id": "698b1ff6",
   "metadata": {},
   "outputs": [],
   "source": [
    "Loan = pd.read_csv('Bank+Data+-+Full+Data+-For+final+Day.csv')"
   ]
  },
  {
   "cell_type": "code",
   "execution_count": 3,
   "id": "01594129",
   "metadata": {
    "scrolled": false
   },
   "outputs": [
    {
     "data": {
      "text/html": [
       "<div>\n",
       "<style scoped>\n",
       "    .dataframe tbody tr th:only-of-type {\n",
       "        vertical-align: middle;\n",
       "    }\n",
       "\n",
       "    .dataframe tbody tr th {\n",
       "        vertical-align: top;\n",
       "    }\n",
       "\n",
       "    .dataframe thead th {\n",
       "        text-align: right;\n",
       "    }\n",
       "</style>\n",
       "<table border=\"1\" class=\"dataframe\">\n",
       "  <thead>\n",
       "    <tr style=\"text-align: right;\">\n",
       "      <th></th>\n",
       "      <th>Roll Number Part 1</th>\n",
       "      <th>ID</th>\n",
       "      <th>Gender</th>\n",
       "      <th>DOB</th>\n",
       "      <th>LeadCreationDate</th>\n",
       "      <th>City_Code</th>\n",
       "      <th>City_Feature</th>\n",
       "      <th>Employee_No</th>\n",
       "      <th>Employer_type1</th>\n",
       "      <th>Employer_type2</th>\n",
       "      <th>Income</th>\n",
       "      <th>Customer_bank_code</th>\n",
       "      <th>ExistingBankType</th>\n",
       "      <th>Contacted</th>\n",
       "      <th>Source</th>\n",
       "      <th>Source_Cat</th>\n",
       "      <th>Existing_EMI</th>\n",
       "      <th>Feature1</th>\n",
       "      <th>Approved</th>\n",
       "    </tr>\n",
       "  </thead>\n",
       "  <tbody>\n",
       "    <tr>\n",
       "      <th>0</th>\n",
       "      <td>381</td>\n",
       "      <td>APPP10987536114</td>\n",
       "      <td>Female</td>\n",
       "      <td>17/06/93</td>\n",
       "      <td>02/09/16</td>\n",
       "      <td>C10002</td>\n",
       "      <td>A</td>\n",
       "      <td>COM0052877</td>\n",
       "      <td>A</td>\n",
       "      <td>4</td>\n",
       "      <td>1.4</td>\n",
       "      <td>B029</td>\n",
       "      <td>G</td>\n",
       "      <td>N</td>\n",
       "      <td>S122</td>\n",
       "      <td>G</td>\n",
       "      <td>0.0</td>\n",
       "      <td>0</td>\n",
       "      <td>0</td>\n",
       "    </tr>\n",
       "    <tr>\n",
       "      <th>1</th>\n",
       "      <td>884</td>\n",
       "      <td>APPJ10857173523</td>\n",
       "      <td>Female</td>\n",
       "      <td>16/04/91</td>\n",
       "      <td>03/07/16</td>\n",
       "      <td>C10003</td>\n",
       "      <td>A</td>\n",
       "      <td>COM0000002</td>\n",
       "      <td>C</td>\n",
       "      <td>1</td>\n",
       "      <td>2.3</td>\n",
       "      <td>B005</td>\n",
       "      <td>P</td>\n",
       "      <td>N</td>\n",
       "      <td>S133</td>\n",
       "      <td>C</td>\n",
       "      <td>0.0</td>\n",
       "      <td>0</td>\n",
       "      <td>0</td>\n",
       "    </tr>\n",
       "    <tr>\n",
       "      <th>2</th>\n",
       "      <td>34</td>\n",
       "      <td>APPN40005263144</td>\n",
       "      <td>Female</td>\n",
       "      <td>22/11/86</td>\n",
       "      <td>04/07/16</td>\n",
       "      <td>C10001</td>\n",
       "      <td>A</td>\n",
       "      <td>COM0005816</td>\n",
       "      <td>A</td>\n",
       "      <td>4</td>\n",
       "      <td>3.5</td>\n",
       "      <td>B002</td>\n",
       "      <td>P</td>\n",
       "      <td>N</td>\n",
       "      <td>S133</td>\n",
       "      <td>C</td>\n",
       "      <td>0.0</td>\n",
       "      <td>0</td>\n",
       "      <td>0</td>\n",
       "    </tr>\n",
       "    <tr>\n",
       "      <th>3</th>\n",
       "      <td>920</td>\n",
       "      <td>APPF20377669543</td>\n",
       "      <td>Female</td>\n",
       "      <td>11/01/90</td>\n",
       "      <td>05/08/16</td>\n",
       "      <td>C10001</td>\n",
       "      <td>A</td>\n",
       "      <td>COM0000005</td>\n",
       "      <td>A</td>\n",
       "      <td>1</td>\n",
       "      <td>200.0</td>\n",
       "      <td>B001</td>\n",
       "      <td>P</td>\n",
       "      <td>N</td>\n",
       "      <td>S122</td>\n",
       "      <td>B</td>\n",
       "      <td>0.0</td>\n",
       "      <td>0</td>\n",
       "      <td>0</td>\n",
       "    </tr>\n",
       "    <tr>\n",
       "      <th>4</th>\n",
       "      <td>163</td>\n",
       "      <td>APPL30007442336</td>\n",
       "      <td>Female</td>\n",
       "      <td>03/04/94</td>\n",
       "      <td>23/08/16</td>\n",
       "      <td>C10043</td>\n",
       "      <td>B</td>\n",
       "      <td>COM0023428</td>\n",
       "      <td>A</td>\n",
       "      <td>4</td>\n",
       "      <td>200.0</td>\n",
       "      <td>B003</td>\n",
       "      <td>G</td>\n",
       "      <td>N</td>\n",
       "      <td>S133</td>\n",
       "      <td>B</td>\n",
       "      <td>0.0</td>\n",
       "      <td>0</td>\n",
       "      <td>0</td>\n",
       "    </tr>\n",
       "  </tbody>\n",
       "</table>\n",
       "</div>"
      ],
      "text/plain": [
       "   Roll Number Part 1               ID  Gender       DOB LeadCreationDate  \\\n",
       "0                 381  APPP10987536114  Female  17/06/93         02/09/16   \n",
       "1                 884  APPJ10857173523  Female  16/04/91         03/07/16   \n",
       "2                  34  APPN40005263144  Female  22/11/86         04/07/16   \n",
       "3                 920  APPF20377669543  Female  11/01/90         05/08/16   \n",
       "4                 163  APPL30007442336  Female  03/04/94         23/08/16   \n",
       "\n",
       "  City_Code City_Feature Employee_No Employer_type1  Employer_type2  Income  \\\n",
       "0    C10002            A  COM0052877              A               4     1.4   \n",
       "1    C10003            A  COM0000002              C               1     2.3   \n",
       "2    C10001            A  COM0005816              A               4     3.5   \n",
       "3    C10001            A  COM0000005              A               1   200.0   \n",
       "4    C10043            B  COM0023428              A               4   200.0   \n",
       "\n",
       "  Customer_bank_code ExistingBankType Contacted Source Source_Cat  \\\n",
       "0               B029                G         N   S122          G   \n",
       "1               B005                P         N   S133          C   \n",
       "2               B002                P         N   S133          C   \n",
       "3               B001                P         N   S122          B   \n",
       "4               B003                G         N   S133          B   \n",
       "\n",
       "   Existing_EMI  Feature1  Approved  \n",
       "0           0.0         0         0  \n",
       "1           0.0         0         0  \n",
       "2           0.0         0         0  \n",
       "3           0.0         0         0  \n",
       "4           0.0         0         0  "
      ]
     },
     "execution_count": 3,
     "metadata": {},
     "output_type": "execute_result"
    }
   ],
   "source": [
    "Loan.head() # Display of 5 records"
   ]
  },
  {
   "cell_type": "markdown",
   "id": "861f8ab7",
   "metadata": {},
   "source": [
    "Used pandas library to read the data"
   ]
  },
  {
   "cell_type": "code",
   "execution_count": 4,
   "id": "29f51487",
   "metadata": {
    "scrolled": false
   },
   "outputs": [
    {
     "name": "stdout",
     "output_type": "stream",
     "text": [
      "<class 'pandas.core.frame.DataFrame'>\n",
      "RangeIndex: 1982 entries, 0 to 1981\n",
      "Data columns (total 19 columns):\n",
      " #   Column              Non-Null Count  Dtype  \n",
      "---  ------              --------------  -----  \n",
      " 0   Roll Number Part 1  1982 non-null   int64  \n",
      " 1   ID                  1982 non-null   object \n",
      " 2   Gender              1982 non-null   object \n",
      " 3   DOB                 1982 non-null   object \n",
      " 4   LeadCreationDate    1982 non-null   object \n",
      " 5   City_Code           1982 non-null   object \n",
      " 6   City_Feature        1982 non-null   object \n",
      " 7   Employee_No         1982 non-null   object \n",
      " 8   Employer_type1      1982 non-null   object \n",
      " 9   Employer_type2      1982 non-null   int64  \n",
      " 10  Income              1982 non-null   float64\n",
      " 11  Customer_bank_code  1982 non-null   object \n",
      " 12  ExistingBankType    1982 non-null   object \n",
      " 13  Contacted           1982 non-null   object \n",
      " 14  Source              1982 non-null   object \n",
      " 15  Source_Cat          1982 non-null   object \n",
      " 16  Existing_EMI        1982 non-null   float64\n",
      " 17  Feature1            1982 non-null   int64  \n",
      " 18  Approved            1982 non-null   int64  \n",
      "dtypes: float64(2), int64(4), object(13)\n",
      "memory usage: 294.3+ KB\n"
     ]
    }
   ],
   "source": [
    "# Information of the features\n",
    "Loan.info()"
   ]
  },
  {
   "cell_type": "markdown",
   "id": "690a249d",
   "metadata": {},
   "source": [
    "Missing Values in percentage"
   ]
  },
  {
   "cell_type": "code",
   "execution_count": 5,
   "id": "f322666b",
   "metadata": {},
   "outputs": [
    {
     "data": {
      "text/plain": [
       "Roll Number Part 1    0.0\n",
       "ID                    0.0\n",
       "Gender                0.0\n",
       "DOB                   0.0\n",
       "LeadCreationDate      0.0\n",
       "City_Code             0.0\n",
       "City_Feature          0.0\n",
       "Employee_No           0.0\n",
       "Employer_type1        0.0\n",
       "Employer_type2        0.0\n",
       "Income                0.0\n",
       "Customer_bank_code    0.0\n",
       "ExistingBankType      0.0\n",
       "Contacted             0.0\n",
       "Source                0.0\n",
       "Source_Cat            0.0\n",
       "Existing_EMI          0.0\n",
       "Feature1              0.0\n",
       "Approved              0.0\n",
       "dtype: float64"
      ]
     },
     "execution_count": 5,
     "metadata": {},
     "output_type": "execute_result"
    }
   ],
   "source": [
    "Loan.isnull().sum()/len(Loan)*100 # loan.isnull().sum()"
   ]
  },
  {
   "cell_type": "markdown",
   "id": "bef6c872",
   "metadata": {},
   "source": [
    "No missing Values found"
   ]
  },
  {
   "cell_type": "code",
   "execution_count": 6,
   "id": "ef1578ca",
   "metadata": {
    "scrolled": true
   },
   "outputs": [
    {
     "data": {
      "text/plain": [
       "0.0"
      ]
     },
     "execution_count": 6,
     "metadata": {},
     "output_type": "execute_result"
    }
   ],
   "source": [
    "# Duplicate Records \n",
    "Loan[Loan.duplicated()].sum().sum()"
   ]
  },
  {
   "cell_type": "markdown",
   "id": "567eb6b2",
   "metadata": {},
   "source": [
    "No Duplicated records found"
   ]
  },
  {
   "cell_type": "markdown",
   "id": "d830910e",
   "metadata": {},
   "source": [
    "###  Analysing Target Variable - Approved"
   ]
  },
  {
   "cell_type": "code",
   "execution_count": 7,
   "id": "6c247864",
   "metadata": {},
   "outputs": [
    {
     "name": "stdout",
     "output_type": "stream",
     "text": [
      "int64\n"
     ]
    },
    {
     "data": {
      "text/plain": [
       "0    991\n",
       "1    991\n",
       "Name: Approved, dtype: int64"
      ]
     },
     "execution_count": 7,
     "metadata": {},
     "output_type": "execute_result"
    }
   ],
   "source": [
    "print(Loan['Approved'].dtype)\n",
    "Loan['Approved'].value_counts()"
   ]
  },
  {
   "cell_type": "code",
   "execution_count": 8,
   "id": "9a40fc02",
   "metadata": {
    "scrolled": false
   },
   "outputs": [
    {
     "data": {
      "text/plain": [
       "Text(0.5, 1.0, 'Count plot of Loan Approvel')"
      ]
     },
     "execution_count": 8,
     "metadata": {},
     "output_type": "execute_result"
    },
    {
     "data": {
      "image/png": "[encoded data removed]",
      "text/plain": [
       "<Figure size 640x480 with 1 Axes>"
      ]
     },
     "metadata": {},
     "output_type": "display_data"
    }
   ],
   "source": [
    "sns.countplot(data = Loan , x = 'Approved' , palette = 'deep')\n",
    "plt.title('Count plot of Loan Approvel')"
   ]
  },
  {
   "cell_type": "markdown",
   "id": "4298b189",
   "metadata": {},
   "source": [
    "Equal number of Approved and Not Approved (50% - 50%) , Balanced "
   ]
  },
  {
   "cell_type": "markdown",
   "id": "c5d2db49",
   "metadata": {},
   "source": [
    "## B. Data Cleaning and Exploratory Data Analysis."
   ]
  },
  {
   "cell_type": "markdown",
   "id": "d8f3c7a0",
   "metadata": {},
   "source": [
    "### 1) Creating new dataframe with  'features - Gender', 'City_feature', 'Employer_type1','Employer_type2',’Income’,’ExistingBankType','Source_Cat','Existing_EMI',’Feature1',‘Approved’\n"
   ]
  },
  {
   "cell_type": "code",
   "execution_count": 9,
   "id": "19f12e28",
   "metadata": {},
   "outputs": [],
   "source": [
    "Loan = Loan[['Gender', 'City_Feature', 'Employer_type1','Employer_type2','Income','ExistingBankType','Source_Cat','Existing_EMI','Feature1','Approved']]"
   ]
  },
  {
   "cell_type": "code",
   "execution_count": 10,
   "id": "c35213e3",
   "metadata": {},
   "outputs": [
    {
     "data": {
      "text/html": [
       "<div>\n",
       "<style scoped>\n",
       "    .dataframe tbody tr th:only-of-type {\n",
       "        vertical-align: middle;\n",
       "    }\n",
       "\n",
       "    .dataframe tbody tr th {\n",
       "        vertical-align: top;\n",
       "    }\n",
       "\n",
       "    .dataframe thead th {\n",
       "        text-align: right;\n",
       "    }\n",
       "</style>\n",
       "<table border=\"1\" class=\"dataframe\">\n",
       "  <thead>\n",
       "    <tr style=\"text-align: right;\">\n",
       "      <th></th>\n",
       "      <th>Gender</th>\n",
       "      <th>City_Feature</th>\n",
       "      <th>Employer_type1</th>\n",
       "      <th>Employer_type2</th>\n",
       "      <th>Income</th>\n",
       "      <th>ExistingBankType</th>\n",
       "      <th>Source_Cat</th>\n",
       "      <th>Existing_EMI</th>\n",
       "      <th>Feature1</th>\n",
       "      <th>Approved</th>\n",
       "    </tr>\n",
       "  </thead>\n",
       "  <tbody>\n",
       "    <tr>\n",
       "      <th>0</th>\n",
       "      <td>Female</td>\n",
       "      <td>A</td>\n",
       "      <td>A</td>\n",
       "      <td>4</td>\n",
       "      <td>1.4</td>\n",
       "      <td>G</td>\n",
       "      <td>G</td>\n",
       "      <td>0.0</td>\n",
       "      <td>0</td>\n",
       "      <td>0</td>\n",
       "    </tr>\n",
       "    <tr>\n",
       "      <th>1</th>\n",
       "      <td>Female</td>\n",
       "      <td>A</td>\n",
       "      <td>C</td>\n",
       "      <td>1</td>\n",
       "      <td>2.3</td>\n",
       "      <td>P</td>\n",
       "      <td>C</td>\n",
       "      <td>0.0</td>\n",
       "      <td>0</td>\n",
       "      <td>0</td>\n",
       "    </tr>\n",
       "    <tr>\n",
       "      <th>2</th>\n",
       "      <td>Female</td>\n",
       "      <td>A</td>\n",
       "      <td>A</td>\n",
       "      <td>4</td>\n",
       "      <td>3.5</td>\n",
       "      <td>P</td>\n",
       "      <td>C</td>\n",
       "      <td>0.0</td>\n",
       "      <td>0</td>\n",
       "      <td>0</td>\n",
       "    </tr>\n",
       "    <tr>\n",
       "      <th>3</th>\n",
       "      <td>Female</td>\n",
       "      <td>A</td>\n",
       "      <td>A</td>\n",
       "      <td>1</td>\n",
       "      <td>200.0</td>\n",
       "      <td>P</td>\n",
       "      <td>B</td>\n",
       "      <td>0.0</td>\n",
       "      <td>0</td>\n",
       "      <td>0</td>\n",
       "    </tr>\n",
       "    <tr>\n",
       "      <th>4</th>\n",
       "      <td>Female</td>\n",
       "      <td>B</td>\n",
       "      <td>A</td>\n",
       "      <td>4</td>\n",
       "      <td>200.0</td>\n",
       "      <td>G</td>\n",
       "      <td>B</td>\n",
       "      <td>0.0</td>\n",
       "      <td>0</td>\n",
       "      <td>0</td>\n",
       "    </tr>\n",
       "  </tbody>\n",
       "</table>\n",
       "</div>"
      ],
      "text/plain": [
       "   Gender City_Feature Employer_type1  Employer_type2  Income  \\\n",
       "0  Female            A              A               4     1.4   \n",
       "1  Female            A              C               1     2.3   \n",
       "2  Female            A              A               4     3.5   \n",
       "3  Female            A              A               1   200.0   \n",
       "4  Female            B              A               4   200.0   \n",
       "\n",
       "  ExistingBankType Source_Cat  Existing_EMI  Feature1  Approved  \n",
       "0                G          G           0.0         0         0  \n",
       "1                P          C           0.0         0         0  \n",
       "2                P          C           0.0         0         0  \n",
       "3                P          B           0.0         0         0  \n",
       "4                G          B           0.0         0         0  "
      ]
     },
     "execution_count": 10,
     "metadata": {},
     "output_type": "execute_result"
    }
   ],
   "source": [
    "Loan.head()"
   ]
  },
  {
   "cell_type": "code",
   "execution_count": 11,
   "id": "9383da94",
   "metadata": {},
   "outputs": [
    {
     "name": "stdout",
     "output_type": "stream",
     "text": [
      "<class 'pandas.core.frame.DataFrame'>\n",
      "RangeIndex: 1982 entries, 0 to 1981\n",
      "Data columns (total 10 columns):\n",
      " #   Column            Non-Null Count  Dtype  \n",
      "---  ------            --------------  -----  \n",
      " 0   Gender            1982 non-null   object \n",
      " 1   City_Feature      1982 non-null   object \n",
      " 2   Employer_type1    1982 non-null   object \n",
      " 3   Employer_type2    1982 non-null   int64  \n",
      " 4   Income            1982 non-null   float64\n",
      " 5   ExistingBankType  1982 non-null   object \n",
      " 6   Source_Cat        1982 non-null   object \n",
      " 7   Existing_EMI      1982 non-null   float64\n",
      " 8   Feature1          1982 non-null   int64  \n",
      " 9   Approved          1982 non-null   int64  \n",
      "dtypes: float64(2), int64(3), object(5)\n",
      "memory usage: 155.0+ KB\n"
     ]
    }
   ],
   "source": [
    "# info of the Dataframe with Selected feture\n",
    "Loan.info()"
   ]
  },
  {
   "cell_type": "code",
   "execution_count": 12,
   "id": "fdbf5c16",
   "metadata": {
    "scrolled": false
   },
   "outputs": [
    {
     "data": {
      "text/plain": [
       "Index(['Gender', 'City_Feature', 'Employer_type1', 'ExistingBankType',\n",
       "       'Source_Cat'],\n",
       "      dtype='object')"
      ]
     },
     "execution_count": 12,
     "metadata": {},
     "output_type": "execute_result"
    }
   ],
   "source": [
    "# Categorical Features \n",
    "Loan.select_dtypes(include = 'object').columns"
   ]
  },
  {
   "cell_type": "code",
   "execution_count": 13,
   "id": "3374bb87",
   "metadata": {},
   "outputs": [
    {
     "data": {
      "text/plain": [
       "Index(['Employer_type2', 'Income', 'Existing_EMI', 'Feature1', 'Approved'], dtype='object')"
      ]
     },
     "execution_count": 13,
     "metadata": {},
     "output_type": "execute_result"
    }
   ],
   "source": [
    "# Numerical Features\n",
    "Loan.select_dtypes(exclude = 'object').columns"
   ]
  },
  {
   "cell_type": "markdown",
   "id": "7411fa14",
   "metadata": {},
   "source": [
    "## Analysis of the Predictors"
   ]
  },
  {
   "cell_type": "markdown",
   "id": "c053c461",
   "metadata": {},
   "source": [
    "### 1. Gender"
   ]
  },
  {
   "cell_type": "code",
   "execution_count": 14,
   "id": "4a30e74e",
   "metadata": {
    "scrolled": true
   },
   "outputs": [
    {
     "data": {
      "text/plain": [
       "Male      1296\n",
       "Female     686\n",
       "Name: Gender, dtype: int64"
      ]
     },
     "execution_count": 14,
     "metadata": {},
     "output_type": "execute_result"
    }
   ],
   "source": [
    "Loan.Gender.value_counts()"
   ]
  },
  {
   "cell_type": "code",
   "execution_count": 15,
   "id": "580c27c7",
   "metadata": {
    "scrolled": false
   },
   "outputs": [
    {
     "data": {
      "text/plain": [
       "Text(0.5, 1.0, 'Count plot with filter')"
      ]
     },
     "execution_count": 15,
     "metadata": {},
     "output_type": "execute_result"
    },
    {
     "data": {
      "image/png": "[encoded data removed]",
      "text/plain": [
       "<Figure size 640x480 with 1 Axes>"
      ]
     },
     "metadata": {},
     "output_type": "display_data"
    }
   ],
   "source": [
    "sns.countplot(data = Loan , x = 'Gender' , palette = 'deep' , hue = 'Approved')\n",
    "plt.title('Count plot with filter')"
   ]
  },
  {
   "cell_type": "code",
   "execution_count": 16,
   "id": "ef3df648",
   "metadata": {},
   "outputs": [
    {
     "data": {
      "text/plain": [
       "Text(0.5, 1.0, 'Income vs Gender')"
      ]
     },
     "execution_count": 16,
     "metadata": {},
     "output_type": "execute_result"
    },
    {
     "data": {
      "image/png": "[encoded data removed]",
      "text/plain": [
       "<Figure size 640x480 with 1 Axes>"
      ]
     },
     "metadata": {},
     "output_type": "display_data"
    }
   ],
   "source": [
    "sns.boxplot(data = Loan , x = 'Gender' , y = 'Income')\n",
    "plt.title('Income vs Gender')"
   ]
  },
  {
   "cell_type": "markdown",
   "id": "3a0a67ab",
   "metadata": {},
   "source": [
    "### 2. City_Feature"
   ]
  },
  {
   "cell_type": "code",
   "execution_count": 17,
   "id": "294d8404",
   "metadata": {},
   "outputs": [
    {
     "data": {
      "text/plain": [
       "A    1525\n",
       "C     263\n",
       "B     194\n",
       "Name: City_Feature, dtype: int64"
      ]
     },
     "execution_count": 17,
     "metadata": {},
     "output_type": "execute_result"
    }
   ],
   "source": [
    "Loan.City_Feature.value_counts()"
   ]
  },
  {
   "cell_type": "code",
   "execution_count": 18,
   "id": "b2291e68",
   "metadata": {
    "scrolled": false
   },
   "outputs": [
    {
     "data": {
      "text/plain": [
       "Text(0.5, 1.0, 'Count Plot of City Feature')"
      ]
     },
     "execution_count": 18,
     "metadata": {},
     "output_type": "execute_result"
    },
    {
     "data": {
      "image/png": "[encoded data removed]",
      "text/plain": [
       "<Figure size 640x480 with 1 Axes>"
      ]
     },
     "metadata": {},
     "output_type": "display_data"
    }
   ],
   "source": [
    "sns.countplot(data = Loan , x = 'City_Feature' , palette = 'deep')\n",
    "plt.title('Count Plot of City Feature')"
   ]
  },
  {
   "cell_type": "code",
   "execution_count": 19,
   "id": "06a49fca",
   "metadata": {},
   "outputs": [
    {
     "data": {
      "text/plain": [
       "Text(0.5, 1.0, 'Income vs City_Feature')"
      ]
     },
     "execution_count": 19,
     "metadata": {},
     "output_type": "execute_result"
    },
    {
     "data": {
      "image/png": "[encoded data removed]",
      "text/plain": [
       "<Figure size 640x480 with 1 Axes>"
      ]
     },
     "metadata": {},
     "output_type": "display_data"
    }
   ],
   "source": [
    "sns.boxplot(data = Loan , x = 'City_Feature' , y = 'Income')\n",
    "plt.title('Income vs City_Feature')"
   ]
  },
  {
   "cell_type": "markdown",
   "id": "3e8a73b4",
   "metadata": {},
   "source": [
    "### 3. Employer_type1"
   ]
  },
  {
   "cell_type": "code",
   "execution_count": 20,
   "id": "7b7fd803",
   "metadata": {},
   "outputs": [
    {
     "data": {
      "text/plain": [
       "A    832\n",
       "B    627\n",
       "C    523\n",
       "Name: Employer_type1, dtype: int64"
      ]
     },
     "execution_count": 20,
     "metadata": {},
     "output_type": "execute_result"
    }
   ],
   "source": [
    "Loan.Employer_type1.value_counts()"
   ]
  },
  {
   "cell_type": "code",
   "execution_count": 21,
   "id": "eaa6d4ab",
   "metadata": {
    "scrolled": false
   },
   "outputs": [
    {
     "data": {
      "text/plain": [
       "<AxesSubplot: xlabel='Employer_type1', ylabel='count'>"
      ]
     },
     "execution_count": 21,
     "metadata": {},
     "output_type": "execute_result"
    },
    {
     "data": {
      "image/png": "[encoded data removed]",
      "text/plain": [
       "<Figure size 640x480 with 1 Axes>"
      ]
     },
     "metadata": {},
     "output_type": "display_data"
    }
   ],
   "source": [
    "sns.countplot(data = Loan , x = 'Employer_type1' , palette = 'deep' , hue='Approved')"
   ]
  },
  {
   "cell_type": "code",
   "execution_count": 22,
   "id": "130b09d4",
   "metadata": {},
   "outputs": [
    {
     "data": {
      "text/plain": [
       "Text(0.5, 1.0, 'Income vs Employer_type1')"
      ]
     },
     "execution_count": 22,
     "metadata": {},
     "output_type": "execute_result"
    },
    {
     "data": {
      "image/png": "[encoded data removed]",
      "text/plain": [
       "<Figure size 640x480 with 1 Axes>"
      ]
     },
     "metadata": {},
     "output_type": "display_data"
    }
   ],
   "source": [
    "sns.boxplot(data = Loan , x = 'Employer_type1' , y = 'Income')\n",
    "plt.title('Income vs Employer_type1')"
   ]
  },
  {
   "cell_type": "markdown",
   "id": "ac60c58a",
   "metadata": {},
   "source": [
    "### 4. Employer_type2"
   ]
  },
  {
   "cell_type": "code",
   "execution_count": 23,
   "id": "f4de56e0",
   "metadata": {},
   "outputs": [
    {
     "data": {
      "text/plain": [
       "4    1703\n",
       "1     145\n",
       "2      89\n",
       "3      45\n",
       "Name: Employer_type2, dtype: int64"
      ]
     },
     "execution_count": 23,
     "metadata": {},
     "output_type": "execute_result"
    }
   ],
   "source": [
    "Loan.Employer_type2.value_counts()"
   ]
  },
  {
   "cell_type": "code",
   "execution_count": 24,
   "id": "617ed910",
   "metadata": {
    "scrolled": false
   },
   "outputs": [
    {
     "data": {
      "text/plain": [
       "<AxesSubplot: xlabel='Employer_type2', ylabel='count'>"
      ]
     },
     "execution_count": 24,
     "metadata": {},
     "output_type": "execute_result"
    },
    {
     "data": {
      "image/png": "[encoded data removed]",
      "text/plain": [
       "<Figure size 640x480 with 1 Axes>"
      ]
     },
     "metadata": {},
     "output_type": "display_data"
    }
   ],
   "source": [
    "sns.countplot(data = Loan , x = 'Employer_type2' , palette = 'deep' , hue='Approved')"
   ]
  },
  {
   "cell_type": "code",
   "execution_count": 25,
   "id": "cf768caf",
   "metadata": {
    "scrolled": false
   },
   "outputs": [
    {
     "data": {
      "text/plain": [
       "Text(0.5, 1.0, 'Income vs Employer_type2')"
      ]
     },
     "execution_count": 25,
     "metadata": {},
     "output_type": "execute_result"
    },
    {
     "data": {
      "image/png": "[encoded data removed]",
      "text/plain": [
       "<Figure size 640x480 with 1 Axes>"
      ]
     },
     "metadata": {},
     "output_type": "display_data"
    }
   ],
   "source": [
    "sns.boxplot(data = Loan , x = 'Employer_type2' , y = 'Income')\n",
    "plt.title('Income vs Employer_type2')"
   ]
  },
  {
   "cell_type": "markdown",
   "id": "83e64c21",
   "metadata": {},
   "source": [
    "### 5. Income"
   ]
  },
  {
   "cell_type": "code",
   "execution_count": 26,
   "id": "881c1e5a",
   "metadata": {},
   "outputs": [
    {
     "data": {
      "text/plain": [
       "<seaborn.axisgrid.FacetGrid at 0x20b25a59a80>"
      ]
     },
     "execution_count": 26,
     "metadata": {},
     "output_type": "execute_result"
    },
    {
     "data": {
      "image/png": "[encoded data removed]",
      "text/plain": [
       "<Figure size 500x500 with 1 Axes>"
      ]
     },
     "metadata": {},
     "output_type": "display_data"
    }
   ],
   "source": [
    "sns.displot(data = Loan , x = 'Income')"
   ]
  },
  {
   "cell_type": "code",
   "execution_count": 27,
   "id": "8c36d7da",
   "metadata": {
    "scrolled": false
   },
   "outputs": [
    {
     "data": {
      "text/plain": [
       "<AxesSubplot: xlabel='Approved', ylabel='Income'>"
      ]
     },
     "execution_count": 27,
     "metadata": {},
     "output_type": "execute_result"
    },
    {
     "data": {
      "image/png": "[encoded data removed]",
      "text/plain": [
       "<Figure size 640x480 with 1 Axes>"
      ]
     },
     "metadata": {},
     "output_type": "display_data"
    }
   ],
   "source": [
    "sns.boxplot(data = Loan , y = 'Income' , x = 'Approved')\n"
   ]
  },
  {
   "cell_type": "markdown",
   "id": "7dae6c28",
   "metadata": {},
   "source": [
    "### 6. ExistingBankType"
   ]
  },
  {
   "cell_type": "code",
   "execution_count": 28,
   "id": "ed5d2f6d",
   "metadata": {},
   "outputs": [
    {
     "data": {
      "text/plain": [
       "P    1448\n",
       "G     534\n",
       "Name: ExistingBankType, dtype: int64"
      ]
     },
     "execution_count": 28,
     "metadata": {},
     "output_type": "execute_result"
    }
   ],
   "source": [
    "Loan.ExistingBankType.value_counts()"
   ]
  },
  {
   "cell_type": "code",
   "execution_count": 29,
   "id": "508194c4",
   "metadata": {
    "scrolled": false
   },
   "outputs": [
    {
     "data": {
      "text/plain": [
       "<AxesSubplot: xlabel='ExistingBankType', ylabel='count'>"
      ]
     },
     "execution_count": 29,
     "metadata": {},
     "output_type": "execute_result"
    },
    {
     "data": {
      "image/png": "[encoded data removed]",
      "text/plain": [
       "<Figure size 640x480 with 1 Axes>"
      ]
     },
     "metadata": {},
     "output_type": "display_data"
    }
   ],
   "source": [
    "sns.countplot(data = Loan , x = 'ExistingBankType' , palette = 'deep' , hue='Approved')"
   ]
  },
  {
   "cell_type": "code",
   "execution_count": 30,
   "id": "ee7b2cf8",
   "metadata": {},
   "outputs": [
    {
     "data": {
      "text/plain": [
       "Text(0.5, 1.0, 'Income vs ExistingBankType')"
      ]
     },
     "execution_count": 30,
     "metadata": {},
     "output_type": "execute_result"
    },
    {
     "data": {
      "image/png": "[encoded data removed]",
      "text/plain": [
       "<Figure size 640x480 with 1 Axes>"
      ]
     },
     "metadata": {},
     "output_type": "display_data"
    }
   ],
   "source": [
    "sns.boxplot(data = Loan , x = 'ExistingBankType' , y = 'Income')\n",
    "plt.title('Income vs ExistingBankType')"
   ]
  },
  {
   "cell_type": "markdown",
   "id": "85a4abb2",
   "metadata": {},
   "source": [
    "### 7. Source_Cat"
   ]
  },
  {
   "cell_type": "code",
   "execution_count": 31,
   "id": "60bb7dcf",
   "metadata": {},
   "outputs": [
    {
     "data": {
      "text/plain": [
       "B    909\n",
       "G    697\n",
       "C    331\n",
       "E     30\n",
       "F     15\n",
       "Name: Source_Cat, dtype: int64"
      ]
     },
     "execution_count": 31,
     "metadata": {},
     "output_type": "execute_result"
    }
   ],
   "source": [
    "Loan.Source_Cat.value_counts()"
   ]
  },
  {
   "cell_type": "code",
   "execution_count": 32,
   "id": "572ddadb",
   "metadata": {
    "scrolled": false
   },
   "outputs": [
    {
     "data": {
      "text/plain": [
       "Text(0.5, 1.0, 'Count plot of Type of Source')"
      ]
     },
     "execution_count": 32,
     "metadata": {},
     "output_type": "execute_result"
    },
    {
     "data": {
      "image/png": "[encoded data removed]",
      "text/plain": [
       "<Figure size 640x480 with 1 Axes>"
      ]
     },
     "metadata": {},
     "output_type": "display_data"
    }
   ],
   "source": [
    "sns.countplot(data = Loan , x = 'Source_Cat' , palette = 'deep')\n",
    "plt.title('Count plot of Type of Source')"
   ]
  },
  {
   "cell_type": "code",
   "execution_count": 33,
   "id": "a43b7bfe",
   "metadata": {},
   "outputs": [
    {
     "data": {
      "text/plain": [
       "Text(0.5, 1.0, 'Income vs Source_Cat')"
      ]
     },
     "execution_count": 33,
     "metadata": {},
     "output_type": "execute_result"
    },
    {
     "data": {
      "image/png": "[encoded data removed]",
      "text/plain": [
       "<Figure size 640x480 with 1 Axes>"
      ]
     },
     "metadata": {},
     "output_type": "display_data"
    }
   ],
   "source": [
    "sns.boxplot(data = Loan , x = 'Source_Cat' , y = 'Income')\n",
    "plt.title('Income vs Source_Cat')"
   ]
  },
  {
   "cell_type": "markdown",
   "id": "47de43e0",
   "metadata": {},
   "source": [
    "### 8. Existing_EMI"
   ]
  },
  {
   "cell_type": "code",
   "execution_count": 34,
   "id": "23b8b89a",
   "metadata": {},
   "outputs": [
    {
     "data": {
      "text/plain": [
       "dtype('float64')"
      ]
     },
     "execution_count": 34,
     "metadata": {},
     "output_type": "execute_result"
    }
   ],
   "source": [
    "Loan.Existing_EMI.dtypes"
   ]
  },
  {
   "cell_type": "code",
   "execution_count": 35,
   "id": "a0a81c79",
   "metadata": {
    "scrolled": false
   },
   "outputs": [
    {
     "data": {
      "text/plain": [
       "Text(0.5, 1.0, 'Distribution of Existing EMI data')"
      ]
     },
     "execution_count": 35,
     "metadata": {},
     "output_type": "execute_result"
    },
    {
     "data": {
      "image/png": "[encoded data removed]",
      "text/plain": [
       "<Figure size 640x480 with 1 Axes>"
      ]
     },
     "metadata": {},
     "output_type": "display_data"
    }
   ],
   "source": [
    "sns.histplot(data = Loan , x = 'Existing_EMI')\n",
    "plt.title('Distribution of Existing EMI data')"
   ]
  },
  {
   "cell_type": "code",
   "execution_count": 36,
   "id": "4493624f",
   "metadata": {
    "scrolled": false
   },
   "outputs": [
    {
     "data": {
      "text/plain": [
       "<AxesSubplot: xlabel='Approved', ylabel='Existing_EMI'>"
      ]
     },
     "execution_count": 36,
     "metadata": {},
     "output_type": "execute_result"
    },
    {
     "data": {
      "image/png": "[encoded data removed]",
      "text/plain": [
       "<Figure size 640x480 with 1 Axes>"
      ]
     },
     "metadata": {},
     "output_type": "display_data"
    }
   ],
   "source": [
    "sns.boxplot(data = Loan , y = 'Existing_EMI' , x = 'Approved')"
   ]
  },
  {
   "cell_type": "markdown",
   "id": "6d42ed79",
   "metadata": {},
   "source": [
    "### 9. Feature1"
   ]
  },
  {
   "cell_type": "code",
   "execution_count": 37,
   "id": "aa87ab24",
   "metadata": {},
   "outputs": [
    {
     "data": {
      "text/plain": [
       "10    734\n",
       "0     439\n",
       "7     401\n",
       "2     226\n",
       "4     182\n",
       "Name: Feature1, dtype: int64"
      ]
     },
     "execution_count": 37,
     "metadata": {},
     "output_type": "execute_result"
    }
   ],
   "source": [
    "Loan['Feature1'].value_counts()"
   ]
  },
  {
   "cell_type": "code",
   "execution_count": 38,
   "id": "1c4454f7",
   "metadata": {
    "scrolled": false
   },
   "outputs": [
    {
     "data": {
      "text/plain": [
       "<seaborn.axisgrid.FacetGrid at 0x20b29f0c2e0>"
      ]
     },
     "execution_count": 38,
     "metadata": {},
     "output_type": "execute_result"
    },
    {
     "data": {
      "image/png": "[encoded data removed]",
      "text/plain": [
       "<Figure size 500x500 with 1 Axes>"
      ]
     },
     "metadata": {},
     "output_type": "display_data"
    }
   ],
   "source": [
    "sns.displot(data = Loan , x = 'Feature1')"
   ]
  },
  {
   "cell_type": "code",
   "execution_count": 39,
   "id": "a2c8f265",
   "metadata": {
    "scrolled": false
   },
   "outputs": [
    {
     "data": {
      "text/plain": [
       "<AxesSubplot: ylabel='Feature1'>"
      ]
     },
     "execution_count": 39,
     "metadata": {},
     "output_type": "execute_result"
    },
    {
     "data": {
      "image/png": "[encoded data removed]",
      "text/plain": [
       "<Figure size 640x480 with 1 Axes>"
      ]
     },
     "metadata": {},
     "output_type": "display_data"
    }
   ],
   "source": [
    "sns.boxplot(data = Loan , y = 'Feature1' , hue = 'Approved')"
   ]
  },
  {
   "cell_type": "code",
   "execution_count": 40,
   "id": "8c235691",
   "metadata": {},
   "outputs": [
    {
     "data": {
      "text/plain": [
       "<AxesSubplot: >"
      ]
     },
     "execution_count": 40,
     "metadata": {},
     "output_type": "execute_result"
    },
    {
     "data": {
      "image/png": "[encoded data removed]",
      "text/plain": [
       "<Figure size 700x600 with 2 Axes>"
      ]
     },
     "metadata": {},
     "output_type": "display_data"
    }
   ],
   "source": [
    "# Correlation Matrix of numerical variable\n",
    "corr_m = Loan.corr() \n",
    "f, ax = plt.subplots(figsize =(7,6)) \n",
    "sns.heatmap(corr_m,annot=True, cmap =\"YlGnBu\", linewidths = 0.1) "
   ]
  },
  {
   "cell_type": "markdown",
   "id": "e2a12541",
   "metadata": {},
   "source": [
    "### Label Encoding of categorical Features"
   ]
  },
  {
   "cell_type": "code",
   "execution_count": 41,
   "id": "988e3b9e",
   "metadata": {},
   "outputs": [],
   "source": [
    "from sklearn.preprocessing import LabelEncoder \n",
    "\n",
    "le = LabelEncoder() \n",
    "Loan['Gender']= le.fit_transform(Loan['Gender']) \n",
    "Loan['City_Feature']= le.fit_transform(Loan['City_Feature']) \n",
    "Loan['Employer_type1']= le.fit_transform(Loan['Employer_type1']) \n",
    "Loan['ExistingBankType']= le.fit_transform(Loan['ExistingBankType']) \n",
    "Loan['Source_Cat']= le.fit_transform(Loan['Source_Cat']) "
   ]
  },
  {
   "cell_type": "markdown",
   "id": "ce5d83ca",
   "metadata": {},
   "source": [
    "## Multicolinearity b/w Categorical Variable using Chi-square test"
   ]
  },
  {
   "cell_type": "code",
   "execution_count": 42,
   "id": "f0b6bd4b",
   "metadata": {},
   "outputs": [],
   "source": [
    "from scipy.stats import chi2_contingency\n",
    "# categorical variables of interest\n",
    "cat_vars = ['Gender', 'City_Feature', 'Employer_type1' , 'ExistingBankType' , 'Source_Cat' , 'Employer_type2']"
   ]
  },
  {
   "cell_type": "code",
   "execution_count": 43,
   "id": "1703de0c",
   "metadata": {
    "scrolled": false
   },
   "outputs": [
    {
     "name": "stdout",
     "output_type": "stream",
     "text": [
      "Gender vs City_Feature:\n",
      "  p-value = 0.5658\n",
      "Gender vs Employer_type1:\n",
      "  p-value = 0.0000\n",
      "Gender vs ExistingBankType:\n",
      "  p-value = 0.0211\n",
      "Gender vs Source_Cat:\n",
      "  p-value = 0.0003\n",
      "Gender vs Employer_type2:\n",
      "  p-value = 0.7760\n",
      "City_Feature vs Employer_type1:\n",
      "  p-value = 0.0000\n",
      "City_Feature vs ExistingBankType:\n",
      "  p-value = 0.0000\n",
      "City_Feature vs Source_Cat:\n",
      "  p-value = 0.0000\n",
      "City_Feature vs Employer_type2:\n",
      "  p-value = 0.0025\n",
      "Employer_type1 vs ExistingBankType:\n",
      "  p-value = 0.0000\n",
      "Employer_type1 vs Source_Cat:\n",
      "  p-value = 0.7245\n",
      "Employer_type1 vs Employer_type2:\n",
      "  p-value = 0.0000\n",
      "ExistingBankType vs Source_Cat:\n",
      "  p-value = 0.5575\n",
      "ExistingBankType vs Employer_type2:\n",
      "  p-value = 0.0000\n",
      "Source_Cat vs Employer_type2:\n",
      "  p-value = 0.2335\n"
     ]
    }
   ],
   "source": [
    "results = {}\n",
    "for i in range(len(cat_vars)):\n",
    "    for j in range(i+1, len(cat_vars)):\n",
    "        # Create a contingency table for the pair of variables\n",
    "        contingency_table = pd.crosstab(Loan[cat_vars[i]], Loan[cat_vars[j]])\n",
    "        \n",
    "        # Perform the chi-square test of independence\n",
    "        chi2, p, dof, expected = chi2_contingency(contingency_table)\n",
    "        \n",
    "        # Store the results in the dictionary\n",
    "        key = cat_vars[i] + ' vs ' + cat_vars[j]\n",
    "        results[key] = {'chi2': chi2, 'p': p, 'dof': dof, 'expected': expected}\n",
    "        \n",
    "# Print the results\n",
    "for key, value in results.items():\n",
    "    print(key + ':')\n",
    "    print('  p-value = {:.4f}'.format(value['p']))"
   ]
  },
  {
   "cell_type": "markdown",
   "id": "d27b8d7f",
   "metadata": {},
   "source": [
    " A low p-value (less than 0.05) suggests that there may be a significant association between the two variables, and therefore, there may be multicollinearity between them.\n",
    "\n",
    "#### Selected features are :  Gender , City_Feature ,Employer_type2 ,  ExistingBankType , Source_Cat for model training"
   ]
  },
  {
   "cell_type": "code",
   "execution_count": 44,
   "id": "1253b47a",
   "metadata": {
    "scrolled": true
   },
   "outputs": [
    {
     "name": "stdout",
     "output_type": "stream",
     "text": [
      "<class 'pandas.core.frame.DataFrame'>\n",
      "RangeIndex: 1982 entries, 0 to 1981\n",
      "Data columns (total 10 columns):\n",
      " #   Column            Non-Null Count  Dtype  \n",
      "---  ------            --------------  -----  \n",
      " 0   Gender            1982 non-null   int32  \n",
      " 1   City_Feature      1982 non-null   int32  \n",
      " 2   Employer_type1    1982 non-null   int32  \n",
      " 3   Employer_type2    1982 non-null   int64  \n",
      " 4   Income            1982 non-null   float64\n",
      " 5   ExistingBankType  1982 non-null   int32  \n",
      " 6   Source_Cat        1982 non-null   int32  \n",
      " 7   Existing_EMI      1982 non-null   float64\n",
      " 8   Feature1          1982 non-null   int64  \n",
      " 9   Approved          1982 non-null   int64  \n",
      "dtypes: float64(2), int32(5), int64(3)\n",
      "memory usage: 116.3 KB\n"
     ]
    }
   ],
   "source": [
    "Loan.info()"
   ]
  },
  {
   "cell_type": "markdown",
   "id": "6e54ee86",
   "metadata": {},
   "source": [
    "###  Divide the data in dependent and independent variable."
   ]
  },
  {
   "cell_type": "code",
   "execution_count": 45,
   "id": "da57f265",
   "metadata": {},
   "outputs": [],
   "source": [
    "X = Loan.iloc[:,[0 , 1 , 3 , 4 ,5 , 6 , 7 , 8 ]] # Independent Variable\n",
    "y = Loan.iloc[:,-1] # Dependent/Target variable"
   ]
  },
  {
   "cell_type": "markdown",
   "id": "e0f8a0fd",
   "metadata": {},
   "source": [
    "Used index location method to divide the dataset into dependent and independent"
   ]
  },
  {
   "cell_type": "markdown",
   "id": "b93a9716",
   "metadata": {},
   "source": [
    "###  Split the data into train and test data with 80:20 proportion."
   ]
  },
  {
   "cell_type": "code",
   "execution_count": 46,
   "id": "0272b764",
   "metadata": {},
   "outputs": [],
   "source": [
    "#Importing train_test_split package \n",
    "from sklearn.model_selection import train_test_split\n",
    "#training data: 80%, and testing data: 20% with random_state= 0 to repeat the same training and testing data\n",
    "X_train , X_test , y_train , y_test = train_test_split(X , y , test_size= 0.2 , random_state= 1)"
   ]
  },
  {
   "cell_type": "code",
   "execution_count": 47,
   "id": "417a433f",
   "metadata": {},
   "outputs": [
    {
     "name": "stdout",
     "output_type": "stream",
     "text": [
      "the size of X_train data  (1585, 8)\n",
      "the size of X_test data  (397, 8)\n",
      "the size of y_test data  (397,)\n",
      "the size of y_train data  (1585,)\n"
     ]
    }
   ],
   "source": [
    "# Size of training and testing dataset\n",
    "\n",
    "print(\"the size of X_train data \",X_train.shape)\n",
    "print(\"the size of X_test data \", X_test.shape)\n",
    "print(\"the size of y_test data \", y_test.shape)\n",
    "print(\"the size of y_train data \", y_train.shape)"
   ]
  },
  {
   "cell_type": "code",
   "execution_count": 48,
   "id": "7a7eabe5",
   "metadata": {},
   "outputs": [],
   "source": [
    "# Applying standard scaling \n",
    "from sklearn.preprocessing import StandardScaler\n",
    "sc = StandardScaler()\n",
    "X_train_sc = sc.fit_transform(X_train)\n",
    "X_test_sc = sc.transform(X_test)"
   ]
  },
  {
   "cell_type": "markdown",
   "id": "22d88fcd",
   "metadata": {},
   "source": [
    "### Logistic Regression with L1 Regularization \n"
   ]
  },
  {
   "cell_type": "code",
   "execution_count": 49,
   "id": "9ca2f69b",
   "metadata": {},
   "outputs": [
    {
     "data": {
      "text/plain": [
       "LogisticRegression(penalty='l1', solver='liblinear')"
      ]
     },
     "execution_count": 49,
     "metadata": {},
     "output_type": "execute_result"
    }
   ],
   "source": [
    "from sklearn.linear_model import LogisticRegression\n",
    "\n",
    "# Create a Logistic Regression object with L1 regularization\n",
    "logreg = LogisticRegression(penalty='l1', solver='liblinear')\n",
    "\n",
    "# Fit the model to the training data\n",
    "logreg.fit(X_train_sc, y_train)\n"
   ]
  },
  {
   "cell_type": "code",
   "execution_count": 50,
   "id": "da03307e",
   "metadata": {
    "scrolled": true
   },
   "outputs": [
    {
     "data": {
      "text/html": [
       "<div>\n",
       "<style scoped>\n",
       "    .dataframe tbody tr th:only-of-type {\n",
       "        vertical-align: middle;\n",
       "    }\n",
       "\n",
       "    .dataframe tbody tr th {\n",
       "        vertical-align: top;\n",
       "    }\n",
       "\n",
       "    .dataframe thead th {\n",
       "        text-align: right;\n",
       "    }\n",
       "</style>\n",
       "<table border=\"1\" class=\"dataframe\">\n",
       "  <thead>\n",
       "    <tr style=\"text-align: right;\">\n",
       "      <th></th>\n",
       "      <th>Variables</th>\n",
       "      <th>Coefficient_value</th>\n",
       "    </tr>\n",
       "  </thead>\n",
       "  <tbody>\n",
       "    <tr>\n",
       "      <th>0</th>\n",
       "      <td>Gender</td>\n",
       "      <td>0.120972</td>\n",
       "    </tr>\n",
       "    <tr>\n",
       "      <th>1</th>\n",
       "      <td>City_Feature</td>\n",
       "      <td>-0.016967</td>\n",
       "    </tr>\n",
       "    <tr>\n",
       "      <th>2</th>\n",
       "      <td>Employer_type2</td>\n",
       "      <td>-0.041184</td>\n",
       "    </tr>\n",
       "    <tr>\n",
       "      <th>3</th>\n",
       "      <td>Income</td>\n",
       "      <td>0.271805</td>\n",
       "    </tr>\n",
       "    <tr>\n",
       "      <th>4</th>\n",
       "      <td>ExistingBankType</td>\n",
       "      <td>0.157556</td>\n",
       "    </tr>\n",
       "    <tr>\n",
       "      <th>5</th>\n",
       "      <td>Source_Cat</td>\n",
       "      <td>0.092153</td>\n",
       "    </tr>\n",
       "    <tr>\n",
       "      <th>6</th>\n",
       "      <td>Existing_EMI</td>\n",
       "      <td>0.653442</td>\n",
       "    </tr>\n",
       "    <tr>\n",
       "      <th>7</th>\n",
       "      <td>Feature1</td>\n",
       "      <td>0.890393</td>\n",
       "    </tr>\n",
       "  </tbody>\n",
       "</table>\n",
       "</div>"
      ],
      "text/plain": [
       "          Variables  Coefficient_value\n",
       "0            Gender           0.120972\n",
       "1      City_Feature          -0.016967\n",
       "2    Employer_type2          -0.041184\n",
       "3            Income           0.271805\n",
       "4  ExistingBankType           0.157556\n",
       "5        Source_Cat           0.092153\n",
       "6      Existing_EMI           0.653442\n",
       "7          Feature1           0.890393"
      ]
     },
     "execution_count": 50,
     "metadata": {},
     "output_type": "execute_result"
    }
   ],
   "source": [
    "#Showing the respective coefficients of all the variables with respect to y=churn\n",
    "data_coef = pd.DataFrame(columns = ['Variables', 'Coefficient_value'])\n",
    "data_coef['Variables'] = X.columns\n",
    "data_coef['Coefficient_value'] = logreg.coef_[0]\n",
    "data_coef"
   ]
  },
  {
   "cell_type": "code",
   "execution_count": 51,
   "id": "ce883d6b",
   "metadata": {},
   "outputs": [],
   "source": [
    "#Prediction\n",
    "y_pred_test_lr = logreg.predict(X_test_sc)\n",
    "y_pred_train_lr = logreg.predict(X_train_sc)"
   ]
  },
  {
   "cell_type": "code",
   "execution_count": 52,
   "id": "ca4e5a7d",
   "metadata": {
    "scrolled": true
   },
   "outputs": [
    {
     "data": {
      "text/html": [
       "<div>\n",
       "<style scoped>\n",
       "    .dataframe tbody tr th:only-of-type {\n",
       "        vertical-align: middle;\n",
       "    }\n",
       "\n",
       "    .dataframe tbody tr th {\n",
       "        vertical-align: top;\n",
       "    }\n",
       "\n",
       "    .dataframe thead th {\n",
       "        text-align: right;\n",
       "    }\n",
       "</style>\n",
       "<table border=\"1\" class=\"dataframe\">\n",
       "  <thead>\n",
       "    <tr style=\"text-align: right;\">\n",
       "      <th></th>\n",
       "      <th>Actual</th>\n",
       "      <th>Predicted</th>\n",
       "      <th>Probability of Churning</th>\n",
       "    </tr>\n",
       "  </thead>\n",
       "  <tbody>\n",
       "    <tr>\n",
       "      <th>1340</th>\n",
       "      <td>1</td>\n",
       "      <td>1</td>\n",
       "      <td>0.782670</td>\n",
       "    </tr>\n",
       "    <tr>\n",
       "      <th>1441</th>\n",
       "      <td>1</td>\n",
       "      <td>1</td>\n",
       "      <td>0.530772</td>\n",
       "    </tr>\n",
       "    <tr>\n",
       "      <th>1512</th>\n",
       "      <td>1</td>\n",
       "      <td>1</td>\n",
       "      <td>0.728213</td>\n",
       "    </tr>\n",
       "    <tr>\n",
       "      <th>108</th>\n",
       "      <td>0</td>\n",
       "      <td>0</td>\n",
       "      <td>0.141463</td>\n",
       "    </tr>\n",
       "    <tr>\n",
       "      <th>1559</th>\n",
       "      <td>0</td>\n",
       "      <td>1</td>\n",
       "      <td>0.625306</td>\n",
       "    </tr>\n",
       "    <tr>\n",
       "      <th>87</th>\n",
       "      <td>0</td>\n",
       "      <td>0</td>\n",
       "      <td>0.121083</td>\n",
       "    </tr>\n",
       "    <tr>\n",
       "      <th>1931</th>\n",
       "      <td>1</td>\n",
       "      <td>1</td>\n",
       "      <td>0.661743</td>\n",
       "    </tr>\n",
       "    <tr>\n",
       "      <th>612</th>\n",
       "      <td>0</td>\n",
       "      <td>0</td>\n",
       "      <td>0.363525</td>\n",
       "    </tr>\n",
       "    <tr>\n",
       "      <th>1666</th>\n",
       "      <td>1</td>\n",
       "      <td>1</td>\n",
       "      <td>0.647750</td>\n",
       "    </tr>\n",
       "    <tr>\n",
       "      <th>1390</th>\n",
       "      <td>1</td>\n",
       "      <td>1</td>\n",
       "      <td>0.694603</td>\n",
       "    </tr>\n",
       "  </tbody>\n",
       "</table>\n",
       "</div>"
      ],
      "text/plain": [
       "      Actual  Predicted  Probability of Churning\n",
       "1340       1          1                 0.782670\n",
       "1441       1          1                 0.530772\n",
       "1512       1          1                 0.728213\n",
       "108        0          0                 0.141463\n",
       "1559       0          1                 0.625306\n",
       "87         0          0                 0.121083\n",
       "1931       1          1                 0.661743\n",
       "612        0          0                 0.363525\n",
       "1666       1          1                 0.647750\n",
       "1390       1          1                 0.694603"
      ]
     },
     "execution_count": 52,
     "metadata": {},
     "output_type": "execute_result"
    }
   ],
   "source": [
    "#Showing the Actual v/s Predicted Values\n",
    "lr_res= pd.DataFrame(columns= ['Actual','Predicted','Probability of Churning'])\n",
    "lr_res['Actual']= y_test\n",
    "lr_res['Predicted']= logreg.predict(X_test_sc)\n",
    "lr_res['Probability of Churning']= 1-logreg.predict_proba(X_test_sc)\n",
    "lr_res.head(10)"
   ]
  },
  {
   "cell_type": "code",
   "execution_count": 53,
   "id": "950eceb3",
   "metadata": {},
   "outputs": [
    {
     "name": "stdout",
     "output_type": "stream",
     "text": [
      "Accuracy of the train data : 0.7205047318611988\n",
      "Accuracy of the test data : 0.7405541561712846\n"
     ]
    }
   ],
   "source": [
    "# Accuracy of the train and test dataset\n",
    "from sklearn.metrics import accuracy_score, confusion_matrix\n",
    "\n",
    "accuracy_lr_train = accuracy_score(y_train,y_pred_train_lr)\n",
    "print('Accuracy of the train data :', accuracy_lr_train)\n",
    "accuracy_lr_test = accuracy_score(y_test,y_pred_test_lr) \n",
    "print('Accuracy of the test data :' , accuracy_lr_test)"
   ]
  },
  {
   "cell_type": "markdown",
   "id": "425a983a",
   "metadata": {},
   "source": [
    "### SVM"
   ]
  },
  {
   "cell_type": "code",
   "execution_count": 54,
   "id": "c95d503c",
   "metadata": {},
   "outputs": [],
   "source": [
    "from sklearn.svm import SVC\n",
    "svc = SVC(class_weight='balanced', probability=True) # rbf kernel is default\n",
    "svc = svc.fit(X_train_sc, y_train)"
   ]
  },
  {
   "cell_type": "code",
   "execution_count": 55,
   "id": "744889f1",
   "metadata": {},
   "outputs": [],
   "source": [
    "#Prediction\n",
    "y_pred_test_rbf = svc.predict(X_test_sc)\n",
    "y_pred_train_rbf = svc.predict(X_train_sc)"
   ]
  },
  {
   "cell_type": "markdown",
   "id": "0bd2b4ed",
   "metadata": {},
   "source": [
    "Predicted values of train and test Data"
   ]
  },
  {
   "cell_type": "code",
   "execution_count": 56,
   "id": "6059545e",
   "metadata": {
    "scrolled": true
   },
   "outputs": [
    {
     "data": {
      "text/html": [
       "<div>\n",
       "<style scoped>\n",
       "    .dataframe tbody tr th:only-of-type {\n",
       "        vertical-align: middle;\n",
       "    }\n",
       "\n",
       "    .dataframe tbody tr th {\n",
       "        vertical-align: top;\n",
       "    }\n",
       "\n",
       "    .dataframe thead th {\n",
       "        text-align: right;\n",
       "    }\n",
       "</style>\n",
       "<table border=\"1\" class=\"dataframe\">\n",
       "  <thead>\n",
       "    <tr style=\"text-align: right;\">\n",
       "      <th></th>\n",
       "      <th>Actual</th>\n",
       "      <th>Predicted</th>\n",
       "      <th>Probability of Churning</th>\n",
       "    </tr>\n",
       "  </thead>\n",
       "  <tbody>\n",
       "    <tr>\n",
       "      <th>1340</th>\n",
       "      <td>1</td>\n",
       "      <td>1</td>\n",
       "      <td>0.780543</td>\n",
       "    </tr>\n",
       "    <tr>\n",
       "      <th>1441</th>\n",
       "      <td>1</td>\n",
       "      <td>0</td>\n",
       "      <td>0.360717</td>\n",
       "    </tr>\n",
       "    <tr>\n",
       "      <th>1512</th>\n",
       "      <td>1</td>\n",
       "      <td>1</td>\n",
       "      <td>0.854380</td>\n",
       "    </tr>\n",
       "    <tr>\n",
       "      <th>108</th>\n",
       "      <td>0</td>\n",
       "      <td>0</td>\n",
       "      <td>0.145604</td>\n",
       "    </tr>\n",
       "    <tr>\n",
       "      <th>1559</th>\n",
       "      <td>0</td>\n",
       "      <td>1</td>\n",
       "      <td>0.773913</td>\n",
       "    </tr>\n",
       "    <tr>\n",
       "      <th>87</th>\n",
       "      <td>0</td>\n",
       "      <td>0</td>\n",
       "      <td>0.171380</td>\n",
       "    </tr>\n",
       "    <tr>\n",
       "      <th>1931</th>\n",
       "      <td>1</td>\n",
       "      <td>1</td>\n",
       "      <td>0.711093</td>\n",
       "    </tr>\n",
       "    <tr>\n",
       "      <th>612</th>\n",
       "      <td>0</td>\n",
       "      <td>0</td>\n",
       "      <td>0.222677</td>\n",
       "    </tr>\n",
       "    <tr>\n",
       "      <th>1666</th>\n",
       "      <td>1</td>\n",
       "      <td>1</td>\n",
       "      <td>0.790908</td>\n",
       "    </tr>\n",
       "    <tr>\n",
       "      <th>1390</th>\n",
       "      <td>1</td>\n",
       "      <td>1</td>\n",
       "      <td>0.772956</td>\n",
       "    </tr>\n",
       "  </tbody>\n",
       "</table>\n",
       "</div>"
      ],
      "text/plain": [
       "      Actual  Predicted  Probability of Churning\n",
       "1340       1          1                 0.780543\n",
       "1441       1          0                 0.360717\n",
       "1512       1          1                 0.854380\n",
       "108        0          0                 0.145604\n",
       "1559       0          1                 0.773913\n",
       "87         0          0                 0.171380\n",
       "1931       1          1                 0.711093\n",
       "612        0          0                 0.222677\n",
       "1666       1          1                 0.790908\n",
       "1390       1          1                 0.772956"
      ]
     },
     "execution_count": 56,
     "metadata": {},
     "output_type": "execute_result"
    }
   ],
   "source": [
    "#Showing the Actual v/s Predicted Values\n",
    "svm_res= pd.DataFrame(columns= ['Actual','Predicted','Probability of Churning'])\n",
    "svm_res['Actual']= y_test\n",
    "svm_res['Predicted']= svc.predict(X_test_sc)\n",
    "svm_res['Probability of Churning']= 1-svc.predict_proba(X_test_sc)\n",
    "svm_res.head(10)"
   ]
  },
  {
   "cell_type": "code",
   "execution_count": 57,
   "id": "ade8dcee",
   "metadata": {},
   "outputs": [
    {
     "name": "stdout",
     "output_type": "stream",
     "text": [
      "Accuracy of the train data : 0.7602523659305994\n",
      "Accuracy of the test data : 0.743073047858942\n"
     ]
    }
   ],
   "source": [
    "# To calculate the accuracy score of the model\n",
    "from sklearn.metrics import accuracy_score, confusion_matrix\n",
    "\n",
    "accuracy_SVM_train = accuracy_score(y_train,y_pred_train_rbf)\n",
    "print('Accuracy of the train data :', accuracy_SVM_train)\n",
    "accuracy_SVM_test = accuracy_score(y_test,y_pred_test_rbf) \n",
    "print('Accuracy of the test data :' , accuracy_SVM_test)"
   ]
  },
  {
   "cell_type": "code",
   "execution_count": 58,
   "id": "a8c00613",
   "metadata": {
    "scrolled": false
   },
   "outputs": [
    {
     "name": "stdout",
     "output_type": "stream",
     "text": [
      "              precision    recall  f1-score   support\n",
      "\n",
      "           0       0.83      0.64      0.72       207\n",
      "           1       0.69      0.85      0.76       190\n",
      "\n",
      "    accuracy                           0.74       397\n",
      "   macro avg       0.76      0.75      0.74       397\n",
      "weighted avg       0.76      0.74      0.74       397\n",
      "\n"
     ]
    }
   ],
   "source": [
    "#Classification report\n",
    "from sklearn.metrics import classification_report\n",
    "print(classification_report(y_test , y_pred_test_rbf))"
   ]
  },
  {
   "cell_type": "markdown",
   "id": "6ce780d2",
   "metadata": {},
   "source": [
    "### Random Forest"
   ]
  },
  {
   "cell_type": "code",
   "execution_count": 59,
   "id": "faa3c259",
   "metadata": {},
   "outputs": [],
   "source": [
    "#Importing the Random Forest Classifier\n",
    "from sklearn.ensemble import RandomForestClassifier\n",
    "from sklearn import tree"
   ]
  },
  {
   "cell_type": "markdown",
   "id": "7deb313a",
   "metadata": {},
   "source": [
    "Display of the actual vs predicted and Probability values of getting Loan Approved"
   ]
  },
  {
   "cell_type": "code",
   "execution_count": 60,
   "id": "5757bed1",
   "metadata": {},
   "outputs": [],
   "source": [
    "param_grid = {'criterion': ['gini', 'entropy'],\n",
    "              'n_estimators': [50, 100, 200],\n",
    "              'max_depth': [5, 10, 20],\n",
    "              'min_samples_split': [2, 5, 10],\n",
    "              'min_samples_leaf': [1, 2, 4]}\n",
    "rf = RandomForestClassifier()"
   ]
  },
  {
   "cell_type": "code",
   "execution_count": 61,
   "id": "4341868f",
   "metadata": {},
   "outputs": [],
   "source": [
    "from sklearn.model_selection import GridSearchCV\n",
    "\n",
    "grid_search = GridSearchCV(estimator = rf, param_grid = param_grid, cv = 3, n_jobs = -1)"
   ]
  },
  {
   "cell_type": "code",
   "execution_count": 62,
   "id": "bbbd2d7f",
   "metadata": {},
   "outputs": [],
   "source": [
    "grid_search.fit(X_train_sc, y_train)\n",
    "\n",
    "best_params = grid_search.best_params_"
   ]
  },
  {
   "cell_type": "code",
   "execution_count": 63,
   "id": "5027716d",
   "metadata": {},
   "outputs": [
    {
     "name": "stdout",
     "output_type": "stream",
     "text": [
      "{'criterion': 'entropy', 'max_depth': 5, 'min_samples_leaf': 1, 'min_samples_split': 10, 'n_estimators': 50}\n"
     ]
    }
   ],
   "source": [
    "print(best_params)"
   ]
  },
  {
   "cell_type": "code",
   "execution_count": 64,
   "id": "7e7d4779",
   "metadata": {},
   "outputs": [],
   "source": [
    "#Final Random Forest model with 50 trees, using entropy as criterion\n",
    "rf = RandomForestClassifier(n_estimators = 50 , criterion='entropy',max_depth=10 , min_samples_leaf=4 , min_samples_split=5)\n",
    "\n",
    "#Fitting the model with the training data\n",
    "rf = rf.fit(X_train_sc, y_train)"
   ]
  },
  {
   "cell_type": "code",
   "execution_count": 65,
   "id": "872f6abf",
   "metadata": {},
   "outputs": [
    {
     "name": "stdout",
     "output_type": "stream",
     "text": [
      "Training set:  0.804416403785489\n",
      "Test set:  0.7556675062972292\n"
     ]
    }
   ],
   "source": [
    "# Accuracy of the train and test dataset\n",
    "y_pred_rf_train = rf.predict(X_train_sc)\n",
    "accuracy_rf_train = accuracy_score(y_train, y_pred_rf_train)\n",
    "print(\"Training set: \", accuracy_rf_train)\n",
    "\n",
    "y_pred_rf_test = rf.predict(X_test_sc)\n",
    "accuracy_rf_test = accuracy_score(y_test, y_pred_rf_test)\n",
    "print(\"Test set: \", accuracy_rf_test)"
   ]
  },
  {
   "cell_type": "code",
   "execution_count": 66,
   "id": "2eb7e9f0",
   "metadata": {},
   "outputs": [
    {
     "data": {
      "text/plain": [
       "array([[133,  74],\n",
       "       [ 23, 167]], dtype=int64)"
      ]
     },
     "execution_count": 66,
     "metadata": {},
     "output_type": "execute_result"
    }
   ],
   "source": [
    "confusion_matrix(y_test, y_pred_rf_test)"
   ]
  },
  {
   "cell_type": "code",
   "execution_count": 67,
   "id": "7cf9ccc7",
   "metadata": {
    "scrolled": true
   },
   "outputs": [
    {
     "data": {
      "text/html": [
       "<div>\n",
       "<style scoped>\n",
       "    .dataframe tbody tr th:only-of-type {\n",
       "        vertical-align: middle;\n",
       "    }\n",
       "\n",
       "    .dataframe tbody tr th {\n",
       "        vertical-align: top;\n",
       "    }\n",
       "\n",
       "    .dataframe thead th {\n",
       "        text-align: right;\n",
       "    }\n",
       "</style>\n",
       "<table border=\"1\" class=\"dataframe\">\n",
       "  <thead>\n",
       "    <tr style=\"text-align: right;\">\n",
       "      <th></th>\n",
       "      <th>Actual</th>\n",
       "      <th>Predicted</th>\n",
       "      <th>Probability of Churning</th>\n",
       "    </tr>\n",
       "  </thead>\n",
       "  <tbody>\n",
       "    <tr>\n",
       "      <th>1340</th>\n",
       "      <td>1</td>\n",
       "      <td>1</td>\n",
       "      <td>0.874855</td>\n",
       "    </tr>\n",
       "    <tr>\n",
       "      <th>1441</th>\n",
       "      <td>1</td>\n",
       "      <td>1</td>\n",
       "      <td>0.600857</td>\n",
       "    </tr>\n",
       "    <tr>\n",
       "      <th>1512</th>\n",
       "      <td>1</td>\n",
       "      <td>1</td>\n",
       "      <td>0.890322</td>\n",
       "    </tr>\n",
       "    <tr>\n",
       "      <th>108</th>\n",
       "      <td>0</td>\n",
       "      <td>0</td>\n",
       "      <td>0.016748</td>\n",
       "    </tr>\n",
       "    <tr>\n",
       "      <th>1559</th>\n",
       "      <td>0</td>\n",
       "      <td>1</td>\n",
       "      <td>0.608948</td>\n",
       "    </tr>\n",
       "    <tr>\n",
       "      <th>87</th>\n",
       "      <td>0</td>\n",
       "      <td>0</td>\n",
       "      <td>0.014754</td>\n",
       "    </tr>\n",
       "    <tr>\n",
       "      <th>1931</th>\n",
       "      <td>1</td>\n",
       "      <td>1</td>\n",
       "      <td>0.584323</td>\n",
       "    </tr>\n",
       "    <tr>\n",
       "      <th>612</th>\n",
       "      <td>0</td>\n",
       "      <td>0</td>\n",
       "      <td>0.334711</td>\n",
       "    </tr>\n",
       "    <tr>\n",
       "      <th>1666</th>\n",
       "      <td>1</td>\n",
       "      <td>1</td>\n",
       "      <td>0.648569</td>\n",
       "    </tr>\n",
       "    <tr>\n",
       "      <th>1390</th>\n",
       "      <td>1</td>\n",
       "      <td>1</td>\n",
       "      <td>0.667680</td>\n",
       "    </tr>\n",
       "  </tbody>\n",
       "</table>\n",
       "</div>"
      ],
      "text/plain": [
       "      Actual  Predicted  Probability of Churning\n",
       "1340       1          1                 0.874855\n",
       "1441       1          1                 0.600857\n",
       "1512       1          1                 0.890322\n",
       "108        0          0                 0.016748\n",
       "1559       0          1                 0.608948\n",
       "87         0          0                 0.014754\n",
       "1931       1          1                 0.584323\n",
       "612        0          0                 0.334711\n",
       "1666       1          1                 0.648569\n",
       "1390       1          1                 0.667680"
      ]
     },
     "execution_count": 67,
     "metadata": {},
     "output_type": "execute_result"
    }
   ],
   "source": [
    "#Showing the Actual v/s Predicted Values\n",
    "rf_res= pd.DataFrame(columns= ['Actual','Predicted','Probability of Churning'])\n",
    "rf_res['Actual']= y_test\n",
    "rf_res['Predicted']= rf.predict(X_test_sc)\n",
    "rf_res['Probability of Churning']= 1-rf.predict_proba(X_test_sc)\n",
    "rf_res.head(10)"
   ]
  },
  {
   "cell_type": "markdown",
   "id": "b2bc23e6",
   "metadata": {},
   "source": [
    "Predicted values of train and test dataset"
   ]
  },
  {
   "cell_type": "code",
   "execution_count": 68,
   "id": "607fa814",
   "metadata": {},
   "outputs": [
    {
     "name": "stdout",
     "output_type": "stream",
     "text": [
      "              precision    recall  f1-score   support\n",
      "\n",
      "           0       0.85      0.64      0.73       207\n",
      "           1       0.69      0.88      0.77       190\n",
      "\n",
      "    accuracy                           0.76       397\n",
      "   macro avg       0.77      0.76      0.75       397\n",
      "weighted avg       0.78      0.76      0.75       397\n",
      "\n"
     ]
    }
   ],
   "source": [
    "#Classification report\n",
    "from sklearn.metrics import classification_report\n",
    "print(classification_report(y_test , y_pred_rf_test))"
   ]
  },
  {
   "cell_type": "markdown",
   "id": "88a1c437",
   "metadata": {},
   "source": [
    "### KNN"
   ]
  },
  {
   "cell_type": "code",
   "execution_count": 69,
   "id": "e6d3b022",
   "metadata": {},
   "outputs": [],
   "source": [
    "# Define the KNN model\n",
    "from sklearn.neighbors import KNeighborsClassifier\n",
    "\n",
    "knn = KNeighborsClassifier()"
   ]
  },
  {
   "cell_type": "code",
   "execution_count": 70,
   "id": "61d59141",
   "metadata": {},
   "outputs": [
    {
     "data": {
      "text/plain": [
       "GridSearchCV(cv=5, estimator=KNeighborsClassifier(),\n",
       "             param_grid={'n_neighbors': [3, 5, 7, 9, 11]})"
      ]
     },
     "execution_count": 70,
     "metadata": {},
     "output_type": "execute_result"
    }
   ],
   "source": [
    "# Grid search hyperparameter\n",
    "param_grid = {'n_neighbors': [3, 5, 7, 9, 11]}\n",
    "# Use grid search to find the optimal value of k\n",
    "grid_search = GridSearchCV(knn, param_grid, cv=5)\n",
    "grid_search.fit(X_train_sc, y_train)"
   ]
  },
  {
   "cell_type": "code",
   "execution_count": 71,
   "id": "f43c48ef",
   "metadata": {},
   "outputs": [
    {
     "name": "stdout",
     "output_type": "stream",
     "text": [
      "The optimal value of k is: 11\n"
     ]
    }
   ],
   "source": [
    "# Get the optimal value of k\n",
    "optimal_k = grid_search.best_params_['n_neighbors']\n",
    "print(\"The optimal value of k is: {}\".format(optimal_k))"
   ]
  },
  {
   "cell_type": "code",
   "execution_count": 72,
   "id": "41428381",
   "metadata": {},
   "outputs": [
    {
     "data": {
      "text/plain": [
       "KNeighborsClassifier(n_neighbors=11)"
      ]
     },
     "execution_count": 72,
     "metadata": {},
     "output_type": "execute_result"
    }
   ],
   "source": [
    "# Train and test the KNN model using the optimal value of k\n",
    "knn = KNeighborsClassifier(n_neighbors = 11)\n",
    "knn.fit(X_train_sc, y_train)"
   ]
  },
  {
   "cell_type": "code",
   "execution_count": 73,
   "id": "7ab1f56d",
   "metadata": {},
   "outputs": [
    {
     "name": "stdout",
     "output_type": "stream",
     "text": [
      "Training set:  0.7495268138801262\n",
      "Test set:  0.7355163727959698\n"
     ]
    }
   ],
   "source": [
    "# Accuracy of the train and test dataset\n",
    "y_pred_knn_train = knn.predict(X_train_sc)\n",
    "accuracy_knn_train = accuracy_score(y_train, y_pred_knn_train)\n",
    "print(\"Training set: \", accuracy_knn_train)\n",
    "\n",
    "y_pred_knn_test = knn.predict(X_test_sc)\n",
    "accuracy_knn_test = accuracy_score(y_test, y_pred_knn_test)\n",
    "print(\"Test set: \", accuracy_knn_test)"
   ]
  },
  {
   "cell_type": "code",
   "execution_count": 74,
   "id": "38ec8598",
   "metadata": {
    "scrolled": true
   },
   "outputs": [
    {
     "name": "stdout",
     "output_type": "stream",
     "text": [
      "              precision    recall  f1-score   support\n",
      "\n",
      "           0       0.81      0.64      0.72       207\n",
      "           1       0.68      0.84      0.75       190\n",
      "\n",
      "    accuracy                           0.74       397\n",
      "   macro avg       0.75      0.74      0.73       397\n",
      "weighted avg       0.75      0.74      0.73       397\n",
      "\n"
     ]
    }
   ],
   "source": [
    "#Classification report\n",
    "from sklearn.metrics import classification_report\n",
    "print(classification_report(y_test , y_pred_knn_test))"
   ]
  },
  {
   "cell_type": "markdown",
   "id": "01a52352",
   "metadata": {},
   "source": [
    "## Models Summary"
   ]
  },
  {
   "cell_type": "code",
   "execution_count": 75,
   "id": "3a1d5f11",
   "metadata": {},
   "outputs": [
    {
     "data": {
      "image/png": "[encoded data removed]",
      "text/plain": [
       "<Figure size 1200x500 with 2 Axes>"
      ]
     },
     "metadata": {},
     "output_type": "display_data"
    }
   ],
   "source": [
    "import matplotlib.pyplot as plt\n",
    "\n",
    "models = ['Logistic Regression', 'SVM', 'Random Forest', 'KNN']\n",
    "\n",
    "# train and test accuracy scores for each model\n",
    "train_accuracy_scores = [0.72, 0.76 , 0.805, 0.749]\n",
    "test_accuracy_scores = [0.74, 0.73, 0.745, 0.735]\n",
    "\n",
    "# Create a figure with two subplots\n",
    "fig, (ax1, ax2) = plt.subplots(1, 2, figsize=(12,5))\n",
    "\n",
    "# Plot the train accuracy scores in the first subplot\n",
    "ax1.bar(models, train_accuracy_scores, color='blue')\n",
    "ax1.set_xlabel('Model')\n",
    "ax1.set_ylabel('Accuracy')\n",
    "ax1.set_title('Train Accuracy of Four Different Models')\n",
    "\n",
    "# Plot the test accuracy scores in the second subplot\n",
    "ax2.bar(models, test_accuracy_scores, color='green')\n",
    "ax2.set_xlabel('Model')\n",
    "ax2.set_ylabel('Accuracy')\n",
    "ax2.set_title('Test Accuracy of Four Different Models')\n",
    "\n",
    "# Adjust the spacing between the subplots and display the figure\n",
    "plt.subplots_adjust(wspace=0.5)\n",
    "plt.show()"
   ]
  },
  {
   "cell_type": "code",
   "execution_count": 76,
   "id": "e21ace70",
   "metadata": {},
   "outputs": [
    {
     "data": {
      "text/html": [
       "<div>\n",
       "<style scoped>\n",
       "    .dataframe tbody tr th:only-of-type {\n",
       "        vertical-align: middle;\n",
       "    }\n",
       "\n",
       "    .dataframe tbody tr th {\n",
       "        vertical-align: top;\n",
       "    }\n",
       "\n",
       "    .dataframe thead th {\n",
       "        text-align: right;\n",
       "    }\n",
       "</style>\n",
       "<table border=\"1\" class=\"dataframe\">\n",
       "  <thead>\n",
       "    <tr style=\"text-align: right;\">\n",
       "      <th></th>\n",
       "      <th>Feature Name</th>\n",
       "      <th>Importance %</th>\n",
       "    </tr>\n",
       "  </thead>\n",
       "  <tbody>\n",
       "    <tr>\n",
       "      <th>3</th>\n",
       "      <td>Income</td>\n",
       "      <td>52.872010</td>\n",
       "    </tr>\n",
       "    <tr>\n",
       "      <th>7</th>\n",
       "      <td>Feature1</td>\n",
       "      <td>16.435001</td>\n",
       "    </tr>\n",
       "    <tr>\n",
       "      <th>6</th>\n",
       "      <td>Existing_EMI</td>\n",
       "      <td>14.390287</td>\n",
       "    </tr>\n",
       "    <tr>\n",
       "      <th>0</th>\n",
       "      <td>Gender</td>\n",
       "      <td>3.925790</td>\n",
       "    </tr>\n",
       "    <tr>\n",
       "      <th>5</th>\n",
       "      <td>Source_Cat</td>\n",
       "      <td>3.919878</td>\n",
       "    </tr>\n",
       "    <tr>\n",
       "      <th>1</th>\n",
       "      <td>City_Feature</td>\n",
       "      <td>3.049402</td>\n",
       "    </tr>\n",
       "    <tr>\n",
       "      <th>4</th>\n",
       "      <td>ExistingBankType</td>\n",
       "      <td>2.954627</td>\n",
       "    </tr>\n",
       "    <tr>\n",
       "      <th>2</th>\n",
       "      <td>Employer_type2</td>\n",
       "      <td>2.453004</td>\n",
       "    </tr>\n",
       "  </tbody>\n",
       "</table>\n",
       "</div>"
      ],
      "text/plain": [
       "       Feature Name  Importance %\n",
       "3            Income     52.872010\n",
       "7          Feature1     16.435001\n",
       "6      Existing_EMI     14.390287\n",
       "0            Gender      3.925790\n",
       "5        Source_Cat      3.919878\n",
       "1      City_Feature      3.049402\n",
       "4  ExistingBankType      2.954627\n",
       "2    Employer_type2      2.453004"
      ]
     },
     "execution_count": 76,
     "metadata": {},
     "output_type": "execute_result"
    }
   ],
   "source": [
    "#calculating feature importance\n",
    "importances = rf.feature_importances_*100\n",
    "\n",
    "#creating a feature importance dataframe\n",
    "impfea_df = pd.DataFrame({'Feature Name': X_train.columns, 'Importance %': importances})\n",
    "impfea_df.sort_values(by= 'Importance %', ascending= False)"
   ]
  },
  {
   "cell_type": "code",
   "execution_count": 77,
   "id": "6b38ccaa",
   "metadata": {},
   "outputs": [
    {
     "data": {
      "image/png": "[encoded data removed]",
      "text/plain": [
       "<Figure size 800x500 with 1 Axes>"
      ]
     },
     "metadata": {},
     "output_type": "display_data"
    }
   ],
   "source": [
    "#sorting features in decending order of their importance\n",
    "indices = np.argsort(importances)[::1] \n",
    "names = [X_train.columns[i] for i in indices]\n",
    "\n",
    "#Visualizing feature importance\n",
    "plt.figure(figsize=(8,5))\n",
    "plt.barh(range(X_train.shape[1]),importances[indices], color= 'mediumvioletred')\n",
    "plt.yticks(range(X_train.shape[1]), names)\n",
    "plt.title(\"Feature Importance\")\n",
    "plt.title('Feature Importance', fontsize= 20)\n",
    "plt.xlabel('Percentage Importance', fontsize= 12)\n",
    "plt.show()"
   ]
  },
  {
   "cell_type": "markdown",
   "id": "dcf41cf5",
   "metadata": {},
   "source": [
    "## Random forest - with 3 feature Income , Feature1 , Existing EMI"
   ]
  },
  {
   "cell_type": "code",
   "execution_count": 78,
   "id": "91db8fe1",
   "metadata": {},
   "outputs": [],
   "source": [
    "from sklearn.ensemble import RandomForestClassifier\n",
    "from sklearn import tree\n",
    "param_grid = {'criterion': ['gini', 'entropy'],\n",
    "              'n_estimators': [50, 100, 200],\n",
    "              'max_depth': [5, 10, 20],\n",
    "              'min_samples_split': [2, 5, 10],\n",
    "              'min_samples_leaf': [1, 2, 4]}"
   ]
  },
  {
   "cell_type": "code",
   "execution_count": 80,
   "id": "c3ba8cf0",
   "metadata": {},
   "outputs": [],
   "source": [
    "X1 = Loan.iloc[:,[4,7,8]]"
   ]
  },
  {
   "cell_type": "code",
   "execution_count": 81,
   "id": "fdaf7814",
   "metadata": {},
   "outputs": [],
   "source": [
    "# Applying standard scaling \n",
    "from sklearn.preprocessing import StandardScaler\n",
    "sc = StandardScaler()\n",
    "X1 = sc.fit_transform(X1)\n",
    "#X_test_sc = sc.transform(X_test)"
   ]
  },
  {
   "cell_type": "code",
   "execution_count": 82,
   "id": "b7804cab",
   "metadata": {},
   "outputs": [],
   "source": [
    "#Importing train_test_split package \n",
    "from sklearn.model_selection import train_test_split\n",
    "#training data: 80%, and testing data: 20% with random_state= 0 to repeat the same training and testing data\n",
    "X_train , X_test , y_train , y_test = train_test_split(X1 , y , test_size= 0.2 , random_state= 1)"
   ]
  },
  {
   "cell_type": "code",
   "execution_count": 83,
   "id": "bb63098b",
   "metadata": {},
   "outputs": [],
   "source": [
    "from sklearn.model_selection import GridSearchCV\n",
    "\n",
    "grid_search = GridSearchCV(estimator = rf, param_grid = param_grid, cv = 3, n_jobs = -1)"
   ]
  },
  {
   "cell_type": "code",
   "execution_count": 85,
   "id": "fd78b16e",
   "metadata": {},
   "outputs": [
    {
     "name": "stdout",
     "output_type": "stream",
     "text": [
      "{'criterion': 'gini', 'max_depth': 5, 'min_samples_leaf': 1, 'min_samples_split': 5, 'n_estimators': 50}\n"
     ]
    }
   ],
   "source": [
    "grid_search.fit(X_train, y_train)\n",
    "\n",
    "best_params = grid_search.best_params_\n",
    "print(best_params)"
   ]
  },
  {
   "cell_type": "code",
   "execution_count": 86,
   "id": "ef108960",
   "metadata": {},
   "outputs": [],
   "source": [
    "rf_C = RandomForestClassifier(n_estimators = 50 , criterion='gini',max_depth=5 , min_samples_leaf=1 , min_samples_split=5)\n",
    "\n",
    "#Fitting the model with the training data\n",
    "rf_C = rf_C.fit(X_train, y_train)"
   ]
  },
  {
   "cell_type": "code",
   "execution_count": 87,
   "id": "d0d6ea75",
   "metadata": {},
   "outputs": [
    {
     "name": "stdout",
     "output_type": "stream",
     "text": [
      "Training set:  0.7564668769716089\n",
      "Test set:  0.743073047858942\n"
     ]
    }
   ],
   "source": [
    "# Accuracy of the train and test dataset\n",
    "y_pred_train = rf_C.predict(X_train)\n",
    "accuracy_rf_train = accuracy_score(y_train, y_pred_train)\n",
    "print(\"Training set: \", accuracy_rf_train)\n",
    "\n",
    "y_pred_test = rf_C.predict(X_test)\n",
    "accuracy_rf_test = accuracy_score(y_test, y_pred_test)\n",
    "print(\"Test set: \", accuracy_rf_test)"
   ]
  },
  {
   "cell_type": "code",
   "execution_count": null,
   "id": "508366f6",
   "metadata": {},
   "outputs": [],
   "source": []
  }
 ],
 "metadata": {
  "kernelspec": {
   "display_name": "Python 3 (ipykernel)",
   "language": "python",
   "name": "python3"
  },
  "language_info": {
   "codemirror_mode": {
    "name": "ipython",
    "version": 3
   },
   "file_extension": ".py",
   "mimetype": "text/x-python",
   "name": "python",
   "nbconvert_exporter": "python",
   "pygments_lexer": "ipython3",
   "version": "3.10.6"
  }
 },
 "nbformat": 4,
 "nbformat_minor": 5
}
